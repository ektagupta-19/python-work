{
 "cells": [
  {
   "cell_type": "code",
   "execution_count": null,
   "metadata": {},
   "outputs": [],
   "source": [
    "#Design a matric of m*n \n",
    "import ast\n",
    "ll= ast.literal_eval(input())\n",
    "m=int(ll[0])\n",
    "n=int(ll[1])\n",
    "\n",
    "final= [0]*n \n",
    "final= [list(final) for i in range(m)]\n",
    "\n",
    "for i in range(m):\n",
    "    for j in range(n):\n",
    "        if i==0 or i==m-1 or j==0 or j==n-1:\n",
    "            final[i][j]=1 \n",
    "for i in final:\n",
    "    print(i)\n",
    "\n",
    " "
   ]
  },
  {
   "cell_type": "code",
   "execution_count": 5,
   "metadata": {},
   "outputs": [
    {
     "name": "stdout",
     "output_type": "stream",
     "text": [
      "\n",
      "0\n"
     ]
    }
   ],
   "source": [
    "#check for palindrome in string\n",
    "#check for palindrome in string\n",
    "s = (input())\n",
    "s=s.lower()\n",
    "\n",
    "r=\"\"\n",
    "for i in s: \n",
    "    r= i +r \n",
    "if(s==r):\n",
    "    print(1)\n",
    "else:\n",
    "    print(0)\n"
   ]
  },
  {
   "cell_type": "code",
   "execution_count": 7,
   "metadata": {},
   "outputs": [
    {
     "name": "stdout",
     "output_type": "stream",
     "text": [
      "l i \n",
      "love i\n"
     ]
    }
   ],
   "source": [
    "#Reverse the sentence but not the words\n",
    "#method-1\n",
    "sentence=input()\n",
    "ll= sentence.split() \n",
    "ss=\"\"\n",
    "for i in ll:\n",
    "    ss=i+\" \"+ss \n",
    "print(ss)\n",
    "\n",
    "#method-2\n",
    "sentence=input()\n",
    "ll= sentence.split() \n",
    "ll.reverse()\n",
    "\n",
    "ss=' '.join(ll) \n",
    "print(ss)\n",
    "    "
   ]
  },
  {
   "cell_type": "code",
   "execution_count": 8,
   "metadata": {},
   "outputs": [
    {
     "name": "stdout",
     "output_type": "stream",
     "text": [
      "Data_Science\n"
     ]
    }
   ],
   "source": [
    "#Description\n",
    "\n",
    "#While naming entities, it is a common practice to avoid spaces. That is the reason you see so many people using underscores instead of spaces. \n",
    "#You will be given a string, containing a few spaces and random upper and lower cases. You have to write a code that will add underscore in place of spaces and also capitalise the letters properly, i.e. the first letter after underscore should be in upper case and the first letter of the string should be in upper case, all of the other letters should be lower case. \n",
    "#This type of activity is frequently encountered while starting to analyse data. This is called Data cleaning and you will learn more about it in upcoming modules.\n",
    "\n",
    "s=input()\n",
    "ll= s.split(' ')\n",
    "#ll = [i[0].upper()+i[1:].lower()  for i in ll]\n",
    "ll = [i.title() for i in ll]\n",
    "print('_'.join(ll))"
   ]
  },
  {
   "cell_type": "code",
   "execution_count": null,
   "metadata": {},
   "outputs": [],
   "source": [
    "#Input:\n",
    "#A list of integers.\n",
    "\n",
    "#Output:\n",
    "#A list of integers, with duplicates removed if any.\n",
    "\n",
    "import ast\n",
    "ll=ast.literal_eval(input())\n",
    "d={}\n",
    "for item in ll:\n",
    "    if item not in d:\n",
    "        d[item]=1\n",
    "        \n",
    "print(list(d.keys()))"
   ]
  },
  {
   "cell_type": "code",
   "execution_count": null,
   "metadata": {},
   "outputs": [],
   "source": [
    "#You will be converting a dictionary, \n",
    "# of string(keys) and list of string (values), \n",
    "#  to a list of strings.\n",
    "\n",
    "import ast\n",
    "input_str = input()\n",
    "#input dictionary has been received in input_dict\n",
    "input_dict = ast.literal_eval(input_str)\n",
    "ll=[]\n",
    "for item in input_dict.keys():\n",
    "    for word in input_dict[item]:\n",
    "        ll.append(item+'_'+word)\n",
    "print(ll)"
   ]
  },
  {
   "cell_type": "code",
   "execution_count": null,
   "metadata": {},
   "outputs": [],
   "source": [
    "\n",
    "#frequency of its characters is something like 1, 2, 3, 4, .... That is a character appears only once, another appears\n",
    "#  twice, another appears thrice and so on. \n",
    "# For example string '$yrr$ssrsr' is a string since the frequency of y:1, $:2, s:3, r:4,\n",
    "#  however string '$yrr$ssrsr%' will not be a string since it has two characters (y and %) with frequency 1.\n",
    "#  The frequency of characters should be of form 1, 2, 3, 4, 5... only.\n",
    " \n",
    "s=input()\n",
    "d={}\n",
    "for i in s:\n",
    "    if i not in d.keys():\n",
    "        d[i]= s.count(i)\n",
    "count=1 \n",
    "for i in range(1,len(d)+1):\n",
    "    if i not in  d.values():\n",
    "        count=0\n",
    "        break\n",
    "    \n",
    "if count==0:\n",
    "    print(\"False\")\n",
    "else:\n",
    "    print(\"True\")\n"
   ]
  },
  {
   "cell_type": "code",
   "execution_count": null,
   "metadata": {},
   "outputs": [],
   "source": [
    "#You will be given a string with a lot of brackets. You have to print if the brackets are balanced or not. Remember, there are three types of brackets: ‘( )’,  ‘{ }’ and ‘[ ]’.\n",
    "\n",
    "inp=input()\n",
    "stack=[]\n",
    "\n",
    "for i in inp:\n",
    "    if len(stack)==0 or i=='(' or i==\"{\" or i==\"[\":\n",
    "        stack.append(i)\n",
    "    elif i==')' and stack[-1]==\"(\":\n",
    "        stack.pop()\n",
    "    elif i=='}' and stack[-1]==\"{\":\n",
    "        stack.pop()\n",
    "    elif i==']' and stack[-1]==\"[\":\n",
    "        stack.pop()\n",
    "    else:\n",
    "        stack.append(i)\n",
    "\n",
    "if(len(stack)>1):\n",
    "    print(\"No\")\n",
    "else : print(\"Yes\")"
   ]
  },
  {
   "cell_type": "code",
   "execution_count": 17,
   "metadata": {},
   "outputs": [
    {
     "name": "stdout",
     "output_type": "stream",
     "text": [
      "{40, 95}\n",
      "[20, 21, 25, 62, 67, 71, 75, 76, 82]\n",
      "22\n",
      "0\n",
      "1\n",
      "0\n",
      "0\n"
     ]
    }
   ],
   "source": [
    "#c- cricket, f-Footbal, H- Hockey\n",
    "C = [7, 8, 9, 18, 20, 21, 25, 26, 27, 31, 32, 34, 35, 36, 40, 43, 45, 47, 53, 58, 62, 67, 68, 71, 72, 74, 75, 76, 80, 81, 82, 90, 93, 95, 97, 99]\n",
    "F = [1, 7, 10, 13, 16, 22, 24, 29, 30, 32, 34, 39, 40, 43, 44, 48, 56, 60, 65, 68, 69, 73, 77, 78, 90, 93, 94, 95, 96]\n",
    "H = [5, 12, 14, 17, 20, 21, 22, 25, 28, 30, 37, 38, 39, 40, 42, 44, 57, 59, 61, 62, 67, 71, 75, 76, 77, 82, 83, 86, 87, 92, 94, 95]\n",
    "\n",
    "#1 Find students who play all three sports\n",
    "c1=set(C)\n",
    "f1=set(F)\n",
    "h1=set(H)\n",
    "print((c1.intersection(f1,h1)))\n",
    "# Q2. Which are the players who play both cricket and hockey but don't play football?\n",
    "c1=set(C)\n",
    "f1=set(F)\n",
    "h1=set(H)\n",
    "print(sorted(((c1.intersection(h1))- f1)))\n",
    "# Q3. How many players play exactly two sports?\n",
    "c1=set(C)\n",
    "f1=set(F)\n",
    "h1=set(H)\n",
    "c2=(c1.intersection(h1))- f1\n",
    "c3=(c1.intersection(f1))- h1\n",
    "c4=(h1.intersection(f1))- c1 \n",
    "print(len(c2.union(c3,c4)))\n",
    "\n",
    "# Q4. Which of these students do not play any of the sports? (More than one option may be correct)\n",
    "if 41 in C: \n",
    "    print(1)\n",
    "elif 41 in F: \n",
    "    print(1)\n",
    "elif 41 in H: \n",
    "    print(1)\n",
    "else: \n",
    "    print(0)\n",
    "if 48 in C: \n",
    "    print(1)\n",
    "elif 48 in F: \n",
    "    print(1)\n",
    "elif 48 in H: \n",
    "    print(1)\n",
    "else: \n",
    "    print(0)\n",
    "if 63 in C: \n",
    "    print(1)\n",
    "elif 63 in F: \n",
    "    print(1)\n",
    "elif 63 in H: \n",
    "    print(1)\n",
    "else: \n",
    "    print(0)\n",
    "if 85 in C: \n",
    "    print(1)\n",
    "elif 85 in F: \n",
    "    print(1)\n",
    "elif 85 in H: \n",
    "    print(1)\n",
    "else: \n",
    "    print(0)"
   ]
  },
  {
   "cell_type": "code",
   "execution_count": 31,
   "metadata": {},
   "outputs": [
    {
     "name": "stdout",
     "output_type": "stream",
     "text": [
      "2770879\n",
      "(54948, 'Hilda')\n",
      "(3719550, 'Gaga: Five Foot Two')\n",
      "(3943452, 'Deliha 2')\n"
     ]
    }
   ],
   "source": [
    "netflix = {'The Debt Collector': 1821195, 'Act of Vengeance': 2804479, 'Paradise Lost': 2195477, \"Gerald's Game\": 3650626, 'Long Shot': 638440, 'Mak Cun': 1010311, 'Our Souls at Night': 3028705, 'Out of Thin Air': 2681938, \"Paul Hollywood's Big Continental Road Trip\": 230689, 'Satu Hari': 1012350, 'Monster High: Boo York, Boo York': 1526025, 'Cultivating the Seas: History and Future of the Full-Cycle Cultured Kindai Tuna': 2762103, 'Domino': 872663, 'TUNA GIRL': 2574816, '5CM': 2647713, 'Animal World': 220789, 'Hold the Dark': 2307432, 'Lessons from a School Shooting: Notes from Dunblane': 2419534, 'Made in Mexico': 3653712, 'Single': 239278, 'The 3rd Eye': 196138, 'The Sinking Of Van Der Wijck': 2831856, 'Two Catalonias': 1337119, 'Bobby Sands: 66 Days': 2005623, 'Bard of Blood': 744998, 'Deliha 2': 3638900, 'Dragons: Rescue Riders': 3241239, 'In the Shadow of the Moon': 1213329, 'Skylines': 1840094, 'Sturgill Simpson Presents Sound & Fury': 1915540, 'The Politician': 1019394, 'Weeds on Fire': 2273090, 'Much Loved': 3039852, 'Joseph: King of Dreams': 1734449, 'Malaal': 1926128, 'The Grandmaster': 2549410, 'The Inmate': 130965, 'The Hurricane Heist': 2191538, 'Def Comedy Jam 25': 1392697, 'Restless Creature: Wendy Whelan': 2474412, 'Print the Legend': 548250, 'Birders': 3478883, 'Furie': 2755115, 'Leap!': 1401638, 'Oh! Baby (Malayalam)': 839139, 'Oh! Baby (Tamil)': 2691505, 'USS Indianapolis: Men of Courage': 3286014, 'A Wrinkle in Time': 1258861, 'Teach Us All': 2428947, 'White Island': 1152905, 'Inside Man: Most Wanted': 2812661, 'Jeff Dunham: Beside Himself': 2930368, 'China Salesman': 3377292, 'Swearnet: The Movie': 949689, 'The Bar': 620655, 'Manmadhudu 2': 1842761, 'Team Kaylie': 359856, 'Under the Eiffel Tower': 2298237, 'Audrie & Daisy': 1573055, 'Iliza Shlesinger: Confirmed Kills': 365220, 'BONDING': 1664242, 'Do Paise Ki Dhoop Chaar Aane Ki Baarish': 2770879, '20 Feet From Stardom': 2931730, 'In Darkness': 3248749, 'Gaga: Five Foot Two': 3719550, 'The Bad Batch': 3656264, 'SMOSH: The Movie': 3697506, 'King of Boys': 584112, 'Merry Men: The Real Yoruba Demons': 2035595, \"Sarah's Key\": 1337902, 'The Wedding Party 2: Destination Dubai': 1471204, 'Vagabond': 1600432, 'Battlefish': 723021, 'DRAGON PILOT: Hisone & Masotan': 602919, 'Hilda': 54948, 'Maniac': 1348196, 'Quincy': 2601704, 'Rafinha Bastos: Ultimatum': 3469996, 'The Good Cop': 2265521, 'Between Two Ferns: The Movie': 3146508, 'Criminal: France': 2021409, 'Criminal: Germany': 658824, 'Criminal: Spain': 3078634, 'Criminal: UK': 2721398, 'Daddy Issues': 2119035, \"Inside Bill's Brain: Decoding Bill Gates\": 1755104, 'The Hockey Girls': 2000507, 'Travel Mates 2': 707260, 'True: Tricky Treat Day': 3213199, 'Two Sentence Horror Stories': 2438329, 'Mad World': 2281773, 'Mobile Suit Gundam UC': 778879, 'The Bund': 1729892, 'The First Line': 674591, 'Maynard': 84986, 'Monkey Twins': 3277179, 'Bitcoin Heist': 1450158, 'I Am Not Madame Bovary': 2763830, 'Vincent N Roxxy': 1961810, \"Chef's Table: France\": 2065738}\n",
    "\n",
    "# Q1. There's an Indian movie in the dictionary named `Do Paise Ki Dhoop Chaar Aane Ki Baarish`. What is the number of views for this movie?\n",
    "\n",
    "print(netflix[\"Do Paise Ki Dhoop Chaar Aane Ki Baarish\"])\n",
    "#Q2,Which of the shows is the most and least popular in terms of number of views?\n",
    "mini= min(zip(netflix.values(), netflix.keys()))\n",
    "print(mini)\n",
    "max1= max(zip(netflix.values(), netflix.keys()))\n",
    "print(max1)\n",
    "#Q Netflix has just recieved the number of views for the last week as well. Add these views to the total views and find the most popular title in terms of views. Also find out how many views this title has?\n",
    "\n",
    "netflix_last_week = {'The Debt Collector': 229218, 'Act of Vengeance': 191468, 'Paradise Lost': 167846, \"Gerald's Game\": 113298, 'Long Shot': 15190, 'Mak Cun': 244581, 'Our Souls at Night': 188095, 'Out of Thin Air': 183961, \"Paul Hollywood's Big Continental Road Trip\": 207967, 'Satu Hari': 226211, 'Monster High: Boo York, Boo York': 265919, 'Cultivating the Seas: History and Future of the Full-Cycle Cultured Kindai Tuna': 192246, 'Domino': 190538, 'TUNA GIRL': 301819, '5CM': 154371, 'Animal World': 228227, 'Hold the Dark': 222938, 'Lessons from a School Shooting: Notes from Dunblane': 256580, 'Made in Mexico': 199790, 'Single': 155517, 'The 3rd Eye': 251349, 'The Sinking Of Van Der Wijck': 153797, 'Two Catalonias': 189422, 'Bobby Sands: 66 Days': 202461, 'Bard of Blood': 241928, 'Deliha 2': 304552, 'Dragons: Rescue Riders': 155149, 'In the Shadow of the Moon': 222999, 'Skylines': 118737, 'Sturgill Simpson Presents Sound & Fury': 43590, 'The Politician': 11902, 'Weeds on Fire': 243382, 'Much Loved': 190123, 'Joseph: King of Dreams': 46104, 'Malaal': 70961, 'The Grandmaster': 44908, 'The Inmate': 19574, 'The Hurricane Heist': 167696, 'Def Comedy Jam 25': 208075, 'Restless Creature: Wendy Whelan': 22976, 'Print the Legend': 161584, 'Birders': 257668, 'Furie': 282266, 'Leap!': 124338, 'Oh! Baby (Malayalam)': 18203, 'Oh! Baby (Tamil)': 131481, 'USS Indianapolis: Men of Courage': 76558, 'A Wrinkle in Time': 169365, 'Teach Us All': 50378, 'White Island': 299779, 'Inside Man: Most Wanted': 123346, 'Jeff Dunham: Beside Himself': 283561, 'China Salesman': 182041, 'Swearnet: The Movie': 63809, 'The Bar': 41243, 'Manmadhudu 2': 261349, 'Team Kaylie': 101283, 'Under the Eiffel Tower': 83650, 'Audrie & Daisy': 106092, 'Iliza Shlesinger: Confirmed Kills': 255103, 'BONDING': 202683, 'Do Paise Ki Dhoop Chaar Aane Ki Baarish': 32329, '20 Feet From Stardom': 165178, 'In Darkness': 95259, 'Gaga: Five Foot Two': 36638, 'The Bad Batch': 197820, 'SMOSH: The Movie': 196519, 'King of Boys': 49332, 'Merry Men: The Real Yoruba Demons': 293229, \"Sarah's Key\": 178523, 'The Wedding Party 2: Destination Dubai': 51211, 'Vagabond': 116831, 'Battlefish': 5448, 'DRAGON PILOT: Hisone & Masotan': 281873, 'Hilda': 21348, 'Maniac': 268187, 'Quincy': 139696, 'Rafinha Bastos: Ultimatum': 105449, 'The Good Cop': 73230, 'Between Two Ferns: The Movie': 135600, 'Criminal: France': 243469, 'Criminal: Germany': 285211, 'Criminal: Spain': 45184, 'Criminal: UK': 117056, 'Daddy Issues': 267329, \"Inside Bill's Brain: Decoding Bill Gates\": 64083, 'The Hockey Girls': 114146, 'Travel Mates 2': 21088, 'True: Tricky Treat Day': 116504, 'Two Sentence Horror Stories': 274471, 'Mad World': 225244, 'Mobile Suit Gundam UC': 47306, 'The Bund': 146872, 'The First Line': 148861, 'Maynard': 87252, 'Monkey Twins': 199274, 'Bitcoin Heist': 41105, 'I Am Not Madame Bovary': 57841, 'Vincent N Roxxy': 207453, \"Chef's Table: France\": 200536}\n",
    "\n",
    "def mergeview(dict1 , dict2):\n",
    "     for item in dict2.keys():\n",
    "        if item in dict1.keys():\n",
    "            dict1[item]= dict1[item]+ dict2[item]\n",
    "        else:\n",
    "            dict1[item]= dict2[item]\n",
    "\n",
    "mergeview(netflix, netflix_last_week)\n",
    "#print(netflix.keys(), netflix.values())\n",
    "max1= max(zip(netflix.values(), netflix.keys()))\n",
    "print(max1)"
   ]
  },
  {
   "cell_type": "code",
   "execution_count": null,
   "metadata": {},
   "outputs": [],
   "source": [
    "#Write a program that receives a string and shifts all the vowels present in it to the beginning. \n",
    "#Output the resultant string. The order of all the vowels with respect to each other as well as \n",
    "#the order of all the other characters with respect to each other should stay the same.\n",
    "\n",
    "#Input:\n",
    "#A string\n",
    "\n",
    "#Output:\n",
    "#Vowels shifted to the beginning in the input string.\n",
    " \n",
    "s = input()\n",
    "v=\"\"\n",
    "c=\"\"\n",
    "vow=\"aeiouAEIOU\"\n",
    "for i in s:\n",
    "    if i in vow:\n",
    "        v=v+i\n",
    "    else:\n",
    "        c=c+i\n",
    "print(v.strip()+c.strip())"
   ]
  },
  {
   "cell_type": "code",
   "execution_count": null,
   "metadata": {},
   "outputs": [],
   "source": [
    "# find the Common Prefix\n",
    "#You will be given two strings. You have to find the largest prefix common in both the strings.\n",
    "\n",
    "string1=input()\n",
    "string2=input()\n",
    "string1= string1.lower()\n",
    "string2= string2.lower()\n",
    "l1= min(len(string1), len(string2))  \n",
    "ss=\"\"\n",
    "for i in range(l1):\n",
    "    if string1[i]!=string2[i]:\n",
    "        break;\n",
    "if i==0:\n",
    "    print(-1)\n",
    "else:\n",
    "    print(string1[:i])"
   ]
  },
  {
   "cell_type": "code",
   "execution_count": null,
   "metadata": {},
   "outputs": [],
   "source": [
    "# Final the word is anagram or not?\n",
    "word1= input()\n",
    "word2= input()\n",
    "l1=[i  for i in word1]\n",
    "l2=[i  for i in word2]\n",
    "count=1\n",
    "if(len(l1)==len(l2)):\n",
    "    for i in range(len(l1)):\n",
    "        if l2.count(l1[i])==l1.count(l2[i]):\n",
    "            count=1\n",
    "        else: count=0\n",
    "    if(count==1): print(\"True\")\n",
    "    else: print(\"False\")\n",
    "else:\n",
    "        print(\"False\")"
   ]
  },
  {
   "cell_type": "code",
   "execution_count": null,
   "metadata": {},
   "outputs": [],
   "source": [
    "#You are planning to go to your friend's wedding and you have long events all month, lasting at least a few days. You have the start and end dates of events and your task is to find out events overlapping with the wedding date.\n",
    "#The code for taking input has already been written for you, please don't modify that, but do read and try to understand the way input has been taken. You will be asked to take input on your own for most of the problems here onwards. Taking data in a suitable format is an important skill for a Data Scientist.\n",
    "#Input:\n",
    "#The input will contain a list of lists where each sub-list has only two elements representing the start and end date of an event, the start date will be less than or equal to the end date. The next line of input will have a wedding date. \n",
    "#Output:\n",
    "#The output should have the number of events overlapping with the wedding date.\n",
    "\n",
    "import ast\n",
    "input_str1 = input()\n",
    "input_list1 = ast.literal_eval(input_str1)\n",
    "events = input_list1\n",
    "wedding = int(input())\n",
    "count=0\n",
    "for dates in events:\n",
    "    #print(dates[0],dates[1])\n",
    "    for dd in range(dates[0],dates[1]):\n",
    "     \n",
    "     if(wedding ==dd):\n",
    "        count+= 1\n",
    "       \n",
    "print(count) "
   ]
  },
  {
   "cell_type": "code",
   "execution_count": null,
   "metadata": {},
   "outputs": [],
   "source": [
    "#Suppose you are a manager as a big firm and now are looking for new members for your team. You sent out an advertisement and have received a few applications. You have a habit of scoring people on a scale of 100. You have given scores to all the members of your team and the new applications. The process of selection is going to be very straightforward if the applicant improves the average of the team then you hire the applicant to join the team or else reject the application. Remember the order of processing applications is going to be important here.\n",
    "#You may see this as an extension of the previous problem, which it is. You may use the code written in the previous question as a function to improve the code quality.\n",
    "#Input:\n",
    "#Two lists on two separate lines.\n",
    "#The first line will have the list of scores of current team members\n",
    "#The second line will have the list of scores of the applicants.\n",
    "#Output:\n",
    "#The list consisting of scores of the final team after hiring from the pool of applicants.\n",
    "import ast\n",
    "applicant=ast.literal_eval(input())\n",
    "score=ast.literal_eval(input())\n",
    "team=[]\n",
    "def check(score, appli):\n",
    "    avg_= sum(score)/len(score)\n",
    "     \n",
    "    if(appli>avg_):\n",
    "        return 1\n",
    "    else : return 0\n",
    "   \n",
    "for i in score:\n",
    "    ii= check(applicant, i)\n",
    "    if(ii==1):\n",
    "        applicant.append(i)\n",
    "print(applicant)\n"
   ]
  },
  {
   "cell_type": "code",
   "execution_count": null,
   "metadata": {},
   "outputs": [],
   "source": [
    "#Finding the average of the data and comparing it with other values is often encountered while analysing the data. Here you will do the same thing. The data will be provided to you in a list. You will also be given a number check.  You will return whether the number check is above average or no.\n",
    "#Input:\n",
    "#A list with two elements:\n",
    "#The first element will be the list of data of integers and\n",
    "#The second element will be an integer check.\n",
    "#Output:\n",
    "#True if check is above average and False otherwise\n",
    " \n",
    "import ast\n",
    "input_str = input()\n",
    "input_list = ast.literal_eval(input_str)\n",
    " \n",
    "\n",
    "data=input_list[0]\n",
    "check= input_list[1]\n",
    "avg=sum(data)/len(data)\n",
    "if check>avg: print('True')\n",
    "else: print('False')\n"
   ]
  },
  {
   "cell_type": "code",
   "execution_count": null,
   "metadata": {},
   "outputs": [],
   "source": [
    "#You will be given a number. You have to reverse the digits of the number and print it.\n",
    "#Input:\n",
    "#A positive integer greater than zero\n",
    "#Output:\n",
    "#The number in reverse order. Check sample outputs for more details.\n",
    "\n",
    "num= int(input())\n",
    "var=\"\"\n",
    "while num>10 and num%10<10:\n",
    "    var+= str(num%10)\n",
    "    num=num//10\n",
    "   \n",
    "print(var+str(num%10))"
   ]
  },
  {
   "cell_type": "code",
   "execution_count": null,
   "metadata": {},
   "outputs": [],
   "source": [
    "#Find factorial of a number\n",
    "number= int(input())\n",
    "\n",
    "def factorial(n):\n",
    "    i=1\n",
    "    f=1;\n",
    "    if n>0 :\n",
    "        while i <= n:\n",
    "            f=f*i\n",
    "            i=i+1\n",
    "        return f\n",
    "    elif n==0 :\n",
    "        return 1\n",
    "    elif n<0 :\n",
    "        return -1 \n",
    "k=factorial(number)\n",
    "print(k)\n"
   ]
  },
  {
   "cell_type": "code",
   "execution_count": null,
   "metadata": {},
   "outputs": [],
   "source": [
    "#You're trying to automate your alarm clock by writing a function for it. You're given a day of the week encoded as 1=Mon, 2=Tue, ... 6=Sat, 7=Sun, and whether you are on vacation as a boolean value (a boolean object is either True or False. Google \"booleans python\" to get a better understanding). Based on the day and whether you're on vacation, write a function that returns a time in form of a string indicating when the alarm clock should ring. \n",
    "#When not on a vacation, on weekdays, the alarm should ring at \"7:00\" and on the weekends (Saturday and Sunday) it should ring at \"10:00\". \n",
    "#While on a vacation, it should ring at \"10:00\" on weekdays. On vacation, it should not ring on weekends, that is, it should return \"off\".\n",
    "\n",
    "#Input:\n",
    "#The input will be a list of two elements. The first element will be an integer from 1 to 7, and the second element will be a boolean value.\n",
    "\n",
    "#Output:\n",
    "#The output will be a string denoting the time alarm will ring or 'off'\n",
    "day_of_the_week = input_list[0] #first element is an integer denoting the day of the week\n",
    "is_on_vacation = input_list[1] #this is a boolean denoting if its vacation or not\n",
    "if(is_on_vacation==True and day_of_the_week in [1,2,3,4,5]):\n",
    "    print(\"10:00\")\n",
    "elif (is_on_vacation==True and day_of_the_week in [6,7]):\n",
    "    print(\"off\")\n",
    "elif (is_on_vacation==False and day_of_the_week in [6,7]):\n",
    "    print(\"10:00\")\n",
    "elif (is_on_vacation==False and day_of_the_week in [1,2,3,4,5]):  \n",
    "    print(\"7:00\")"
   ]
  },
  {
   "cell_type": "code",
   "execution_count": 67,
   "metadata": {},
   "outputs": [
    {
     "name": "stdout",
     "output_type": "stream",
     "text": [
      "2\n",
      "26\n",
      "4\n",
      "548\n",
      "6\n"
     ]
    }
   ],
   "source": [
    "player = [1, 2, 3, 4, 5, 6, 7, 8, 9, 10, 11, 12, 13, 14, 15, 16, 17, 18, 19, 20, 21, 22, 23, 24, 25, 26, 27, 28, 29, 30, 31, 32, 33, 34, 35, 36, 37, 38, 39, 40, 41, 42, 43, 44, 45, 46, 47, 48, 49, 50, 51, 52, 53, 54, 55, 56, 57, 58, 59, 60, 61, 62, 63, 64, 65, 66, 67, 68, 69, 70, 71, 72, 73, 74, 75, 76, 77, 78, 79, 80, 81, 82, 83, 84, 85, 86, 87, 88, 89, 90, 91, 92, 93, 94, 95, 96, 97, 98, 99, 100, 101, 102, 103, 104, 105, 106, 107, 108, 109, 110, 111, 112, 113, 114, 115, 116, 117, 118, 119, 120, 121, 122, 123, 124, 125, 126, 127, 128, 129, 130, 131, 132, 133, 134, 135, 136, 137, 138, 139, 140, 141, 142, 143, 144, 145, 146, 147, 148, 149, 150, 151, 152, 153, 154, 155, 156, 157, 158, 159, 160, 161, 162, 163, 164, 165, 166, 167, 168, 169, 170, 171, 172, 173, 174, 175, 176, 177, 178, 179, 180, 181, 182, 183, 184, 185, 186, 187, 188, 189, 190, 191, 192, 193, 194, 195, 196, 197, 198, 199, 200, 201, 202, 203, 204, 205, 206, 207, 208, 209, 210, 211, 212, 213, 214, 215, 216, 217, 218, 219, 220, 221, 222, 223, 224, 225, 226, 227, 228, 229, 230, 231, 232, 233, 234, 235, 236, 237, 238, 239, 240, 241, 242, 243, 244, 245, 246, 247, 248, 249, 250, 251, 252, 253, 254, 255, 256, 257, 258, 259, 260, 261, 262, 263, 264, 265, 266, 267, 268, 269, 270, 271, 272, 273, 274, 275, 276, 277, 278, 279, 280, 281, 282, 283, 284, 285, 286, 287, 288, 289, 290, 291, 292, 293, 294, 295, 296, 297, 298, 299, 300, 301, 302, 303, 304, 305, 306, 307, 308, 309, 310, 311, 312, 313, 314, 315, 316, 317, 318, 319, 320, 321, 322, 323, 324, 325, 326, 327, 328, 329, 330, 331, 332, 333, 334, 335, 336, 337, 338, 339, 340, 341, 342, 343, 344, 345, 346, 347, 348, 349, 350, 351, 352, 353, 354, 355, 356, 357, 358, 359, 360, 361, 362, 363, 364, 365, 366, 367, 368, 369, 370, 371, 372, 373, 374, 375, 376, 377, 378, 379, 380, 381, 382, 383, 384, 385, 386, 387, 388, 389, 390, 391, 392, 393, 394, 395, 396, 397, 398, 399, 400, 401, 402, 403, 404, 405, 406, 407, 408, 409, 410, 411, 412, 413, 414, 415, 416, 417, 418, 419, 420, 421, 422, 423, 424, 425, 426, 427, 428, 429, 430, 431, 432, 433, 434, 435, 436, 437, 438, 439, 440, 441, 442, 443, 444, 445, 446, 447, 448, 449, 450, 451, 452, 453, 454, 455, 456, 457, 458, 459, 460, 461, 462, 463, 464, 465, 466, 467, 468, 469, 470, 471, 472, 473, 474, 475, 476, 477, 478, 479, 480, 481, 482, 483, 484, 485, 486, 487, 488, 489, 490, 491, 492, 493, 494, 495, 496, 497, 498, 499, 500, 501, 502, 503, 504, 505, 506, 507, 508, 509, 510, 511, 512, 513, 514, 515, 516, 517, 518, 519, 520, 521, 522, 523, 524, 525, 526, 527, 528, 529, 530, 531, 532, 533, 534, 535, 536, 537, 538, 539, 540, 541, 542, 543, 544, 545, 546, 547, 548, 549, 550, 551, 552, 553, 554, 555, 556, 557, 558, 559, 560, 561, 562, 563, 564, 565, 566, 567, 568, 569, 570, 571, 572, 573, 574, 575, 576, 577, 578, 579, 580, 581, 582, 583, 584, 585, 586, 587, 588, 589, 590, 591, 592, 593, 594, 595, 596, 597, 598, 599, 600, 601, 602, 603, 604, 605, 606, 607, 608, 609, 610, 611, 612, 613, 614, 615, 616, 617, 618, 619, 620, 621, 622, 623, 624, 625, 626, 627, 628, 629, 630, 631, 632, 633, 634, 635, 636, 637, 638, 639, 640, 641, 642, 643, 644, 645, 646, 647, 648, 649, 650, 651, 652, 653, 654, 655, 656, 657, 658, 659, 660, 661, 662, 663, 664, 665, 666, 667, 668, 669, 670, 671, 672, 673, 674, 675, 676, 677, 678, 679, 680, 681, 682, 683, 684, 685, 686, 687, 688, 689, 690, 691, 692, 693, 694, 695, 696, 697, 698, 699, 700, 701, 702, 703, 704, 705, 706, 707, 708, 709, 710, 711, 712, 713, 714, 715, 716, 717, 718, 719, 720, 721, 722, 723, 724, 725, 726, 727, 728, 729, 730, 731, 732, 733, 734, 735, 736, 737, 738, 739, 740, 741, 742, 743, 744, 745, 746, 747, 748, 749, 750, 751, 752, 753, 754, 755, 756, 757, 758, 759, 760, 761, 762, 763, 764, 765, 766, 767, 768, 769, 770, 771, 772, 773, 774, 775, 776, 777, 778, 779, 780, 781, 782, 783, 784, 785, 786, 787, 788, 789, 790, 791, 792, 793, 794, 795, 796, 797, 798, 799, 800, 801, 802, 803, 804, 805, 806, 807, 808, 809, 810, 811, 812, 813, 814, 815, 816, 817, 818, 819, 820, 821, 822, 823, 824, 825, 826, 827, 828, 829, 830, 831, 832, 833, 834, 835, 836, 837, 838, 839, 840, 841, 842, 843, 844, 845, 846, 847, 848, 849, 850, 851, 852, 853, 854, 855, 856, 857, 858, 859, 860, 861, 862, 863, 864, 865, 866, 867, 868, 869, 870, 871, 872, 873, 874, 875, 876, 877, 878, 879, 880, 881, 882, 883, 884, 885, 886, 887, 888, 889, 890, 891, 892, 893, 894, 895, 896, 897, 898, 899, 900, 901, 902, 903, 904, 905, 906, 907, 908, 909, 910, 911, 912, 913, 914, 915, 916, 917, 918, 919, 920, 921, 922, 923, 924, 925, 926, 927, 928, 929, 930, 931, 932, 933, 934, 935, 936, 937, 938, 939, 940, 941, 942, 943, 944, 945, 946, 947, 948, 949, 950, 951, 952, 953, 954, 955, 956, 957, 958, 959, 960, 961, 962, 963, 964, 965, 966, 967, 968, 969, 970, 971, 972, 973, 974, 975, 976, 977, 978, 979, 980, 981, 982, 983, 984, 985, 986, 987, 988, 989, 990, 991, 992, 993, 994, 995, 996, 997, 998, 999, 1000, 1001, 1002, 1003, 1004, 1005, 1006, 1007, 1008, 1009, 1010, 1011, 1012, 1013, 1014, 1015, 1016, 1017, 1018, 1019, 1020, 1021, 1022, 1023, 1024, 1025, 1026, 1027, 1028, 1029, 1030, 1031, 1032, 1033, 1034, 1035, 1036, 1037, 1038, 1039, 1040, 1041, 1042, 1043, 1044, 1045, 1046, 1047, 1048, 1049, 1050, 1051, 1052, 1053, 1054, 1055, 1056, 1057, 1058, 1059, 1060, 1061, 1062, 1063, 1064, 1065, 1066, 1067, 1068, 1069, 1070, 1071, 1072, 1073, 1074, 1075, 1076, 1077, 1078, 1079, 1080, 1081, 1082, 1083, 1084, 1085, 1086, 1087, 1088, 1089, 1090, 1091, 1092, 1093, 1094, 1095, 1096, 1097, 1098, 1099, 1100, 1101, 1102, 1103, 1104, 1105, 1106, 1107, 1108, 1109, 1110, 1111, 1112, 1113, 1114, 1115, 1116, 1117, 1118, 1119, 1120, 1121, 1122, 1123, 1124, 1125, 1126, 1127, 1128, 1129, 1130, 1131, 1132, 1133, 1134, 1135, 1136, 1137, 1138, 1139, 1140, 1141, 1142, 1143, 1144, 1145, 1146, 1147, 1148, 1149, 1150, 1151, 1152, 1153, 1154, 1155, 1156, 1157, 1158, 1159, 1160, 1161, 1162, 1163, 1164, 1165, 1166, 1167, 1168, 1169, 1170, 1171, 1172, 1173, 1174, 1175, 1176, 1177, 1178, 1179, 1180, 1181, 1182, 1183, 1184, 1185, 1186, 1187, 1188, 1189, 1190, 1191, 1192, 1193, 1194, 1195, 1196, 1197, 1198, 1199, 1200, 1201, 1202, 1203, 1204, 1205, 1206, 1207, 1208, 1209, 1210, 1211, 1212, 1213, 1214, 1215, 1216, 1217, 1218, 1219, 1220, 1221, 1222, 1223, 1224, 1225, 1226, 1227, 1228, 1229, 1230, 1231, 1232, 1233, 1234, 1235, 1236, 1237, 1238, 1239, 1240, 1241, 1242, 1243, 1244, 1245, 1246, 1247, 1248, 1249, 1250, 1251, 1252, 1253, 1254, 1255, 1256, 1257, 1258, 1259, 1260, 1261, 1262, 1263, 1264, 1265, 1266, 1267, 1268, 1269, 1270, 1271, 1272, 1273, 1274, 1275, 1276, 1277, 1278, 1279, 1280, 1281, 1282, 1283, 1284, 1285, 1286, 1287, 1288, 1289, 1290, 1291, 1292, 1293, 1294, 1295, 1296, 1297, 1298, 1299, 1300, 1301, 1302, 1303, 1304, 1305, 1306, 1307, 1308, 1309, 1310, 1311, 1312, 1313, 1314, 1315, 1316, 1317, 1318, 1319, 1320, 1321, 1322, 1323, 1324, 1325, 1326, 1327, 1328, 1329, 1330, 1331, 1332, 1333, 1334, 1335, 1336, 1337, 1338, 1339, 1340, 1341, 1342, 1343, 1344, 1345, 1346, 1347, 1348, 1349, 1350, 1351, 1352, 1353, 1354, 1355, 1356, 1357, 1358, 1359, 1360, 1361, 1362, 1363, 1364, 1365, 1366, 1367, 1368, 1369, 1370, 1371, 1372, 1373, 1374, 1375, 1376, 1377, 1378, 1379, 1380, 1381, 1382, 1383, 1384, 1385, 1386, 1387, 1388, 1389, 1390, 1391, 1392, 1393, 1394, 1395, 1396, 1397, 1398, 1399, 1400, 1401, 1402, 1403, 1404, 1405, 1406, 1407, 1408, 1409, 1410, 1411, 1412, 1413, 1414, 1415, 1416, 1417, 1418, 1419, 1420, 1421, 1422, 1423, 1424, 1425, 1426, 1427, 1428, 1429, 1430, 1431, 1432, 1433, 1434, 1435, 1436, 1437, 1438, 1439, 1440, 1441, 1442, 1443, 1444, 1445, 1446, 1447, 1448, 1449, 1450, 1451, 1452, 1453, 1454, 1455, 1456, 1457, 1458, 1459, 1460, 1461, 1462, 1463, 1464, 1465, 1466, 1467, 1468, 1469, 1470, 1471, 1472, 1473, 1474, 1475, 1476, 1477, 1478, 1479, 1480, 1481, 1482, 1483, 1484, 1485, 1486, 1487, 1488, 1489, 1490, 1491, 1492, 1493, 1494, 1495, 1496, 1497, 1498, 1499, 1500, 1501, 1502]\n",
    "score = [(46, 1, 0), (19, 0, 1), (35, 1, 0), (25, 2, 1), (0, 3, 0), (20, 0, 2), (34, 2, 0), (39, 1, 0), (6, 3, 0), (0, 1, 0), (69, 0, 0), (9, 2, 0), (18, 0, 2), (46, 0, 1), (11, 0, 2), (25, 1, 0), (34, 0, 3), (47, 1, 0), (2, 3, 0), (8, 0, 2), (2, 0, 0), (27, 2, 0), (42, 1, 0), (35, 1, 0), (34, 1, 0), (61, 0, 0), (62, 0, 0), (43, 0, 0), (1, 2, 0), (32, 1, 2), (35, 0, 1), (39, 0, 3), (37, 1, 0), (39, 0, 0), (82, 0, 3), (74, 1, 0), (33, 2, 3), (71, 1, 0), (7, 2, 0), (42, 1, 0), (78, 0, 0), (27, 1, 0), (50, 0, 1), (6, 4, 2), (59, 0, 1), (4, 4, 0), (8, 2, 2), (15, 1, 1), (33, 1, 0), (68, 1, 0), (34, 1, 2), (17, 2, 0), (83, 1, 0), (31, 2, 1), (17, 2, 3), (91, 0, 0), (67, 0, 0), (76, 0, 0), (22, 2, 0), (31, 0, 1), (27, 0, 1), (26, 2, 0), (9, 3, 1), (43, 1, 1), (6, 1, 2), (52, 0, 0), (48, 0, 0), (26, 0, 1), (50, 0, 0), (46, 0, 2), (47, 1, 0), (21, 3, 3), (10, 2, 0), (33, 0, 1), (48, 1, 0), (7, 1, 1), (42, 0, 1), (1, 2, 2), (82, 0, 1), (24, 0, 0), (28, 1, 0), (0, 0, 0), (14, 0, 3), (80, 0, 3), (38, 0, 0), (16, 0, 3), (14, 2, 0), (26, 1, 0), (17, 2, 2), (24, 2, 0), (42, 0, 0), (42, 0, 1), (47, 1, 0), (8, 1, 1), (7, 2, 1), (16, 3, 1), (46, 0, 0), (61, 0, 0), (67, 0, 1), (36, 0, 0), (15, 1, 0), (48, 0, 1), (75, 1, 1), (13, 0, 0), (32, 0, 1), (72, 1, 2), (45, 1, 0), (85, 0, 1), (5, 0, 0), (88, 0, 0), (12, 2, 0), (60, 1, 0), (42, 0, 3), (15, 3, 0), (12, 0, 1), (46, 0, 1), (1, 1, 2), (35, 2, 0), (49, 0, 1), (24, 0, 0), (33, 0, 0), (18, 1, 2), (39, 0, 1), (26, 2, 1), (35, 0, 0), (42, 0, 0), (15, 3, 2), (19, 1, 0), (14, 2, 0), (32, 0, 2), (19, 1, 0), (44, 1, 1), (48, 0, 0), (84, 0, 0), (17, 3, 0), (14, 2, 1), (14, 0, 1), (37, 0, 1), (22, 2, 0), (26, 0, 0), (26, 1, 0), (15, 2, 0), (32, 1, 1), (41, 0, 0), (10, 4, 1), (89, 0, 0), (30, 2, 0), (10, 1, 1), (19, 1, 0), (32, 1, 0), (77, 0, 0), (78, 1, 0), (63, 0, 0), (79, 0, 2), (35, 2, 1), (87, 0, 0), (28, 2, 0), (11, 2, 1), (5, 1, 1), (40, 0, 2), (80, 0, 1), (72, 1, 2), (21, 1, 0), (2, 1, 3), (22, 0, 0), (15, 2, 2), (11, 4, 0), (28, 0, 0), (85, 1, 1), (39, 0, 1), (10, 0, 1), (79, 0, 0), (42, 0, 1), (21, 1, 1), (15, 0, 0), (71, 0, 1), (20, 0, 0), (29, 1, 0), (5, 0, 1), (11, 2, 0), (7, 3, 1), (38, 0, 0), (49, 0, 3), (10, 3, 3), (80, 1, 0), (54, 0, 0), (18, 2, 2), (47, 0, 0), (32, 1, 3), (69, 0, 0), (48, 0, 2), (13, 1, 1), (89, 1, 0), (22, 2, 0), (0, 4, 0), (27, 0, 0), (19, 3, 0), (0, 2, 3), (11, 1, 2), (48, 1, 2), (15, 3, 0), (34, 1, 0), (41, 0, 2), (4, 3, 0), (17, 0, 0), (38, 0, 0), (32, 1, 0), (39, 1, 1), (29, 1, 0), (38, 0, 1), (70, 0, 1), (21, 3, 0), (5, 3, 0), (19, 2, 0), (0, 1, 0), (29, 2, 2), (21, 1, 0), (61, 0, 2), (90, 0, 0), (12, 2, 1), (45, 0, 2), (45, 0, 2), (51, 0, 3), (9, 1, 0), (50, 0, 1), (28, 0, 0), (41, 0, 0), (2, 4, 0), (79, 1, 1), (47, 1, 1), (30, 1, 0), (13, 3, 2), (31, 0, 1), (46, 1, 0), (44, 1, 2), (34, 0, 1), (28, 1, 0), (10, 1, 0), (5, 4, 1), (78, 1, 0), (31, 0, 0), (44, 0, 0), (46, 1, 2), (5, 0, 0), (25, 2, 0), (62, 0, 0), (33, 1, 0), (10, 3, 0), (65, 0, 2), (30, 1, 3), (7, 1, 0), (37, 1, 0), (41, 0, 0), (24, 0, 0), (70, 1, 0), (4, 1, 2), (20, 2, 2), (82, 0, 1), (1, 0, 0), (38, 1, 1), (64, 1, 0), (32, 1, 1), (17, 2, 2), (17, 2, 1), (86, 0, 2), (7, 3, 0), (4, 0, 1), (72, 0, 0), (1, 1, 2), (35, 1, 1), (43, 0, 2), (48, 0, 0), (20, 1, 1), (40, 1, 0), (69, 0, 1), (52, 1, 1), (78, 0, 2), (0, 4, 0), (19, 2, 2), (25, 2, 0), (44, 1, 3), (43, 1, 3), (37, 1, 1), (23, 2, 0), (60, 1, 0), (47, 0, 0), (27, 2, 2), (16, 2, 0), (8, 4, 0), (39, 1, 0), (1, 2, 2), (10, 2, 0), (25, 0, 2), (11, 2, 0), (9, 2, 0), (58, 1, 1), (31, 1, 0), (49, 0, 1), (35, 2, 0), (48, 1, 1), (5, 1, 2), (24, 1, 0), (22, 3, 1), (31, 2, 0), (50, 1, 2), (18, 1, 0), (44, 1, 0), (1, 1, 2), (43, 1, 1), (13, 0, 0), (82, 0, 0), (1, 0, 2), (79, 1, 1), (82, 1, 0), (65, 0, 0), (42, 1, 0), (34, 0, 1), (0, 2, 2), (8, 1, 1), (37, 0, 0), (40, 1, 0), (44, 1, 0), (11, 1, 0), (37, 3, 0), (10, 3, 1), (3, 2, 0), (0, 1, 0), (41, 1, 1), (14, 1, 0), (5, 1, 0), (76, 1, 1), (4, 2, 1), (28, 2, 0), (11, 0, 1), (39, 1, 0), (13, 2, 0), (44, 2, 0), (74, 0, 2), (12, 1, 1), (24, 2, 1), (42, 0, 0), (37, 0, 2), (40, 1, 0), (30, 2, 0), (11, 3, 0), (5, 2, 0), (13, 1, 1), (67, 0, 2), (46, 1, 1), (26, 2, 1), (81, 0, 0), (68, 1, 2), (69, 0, 2), (89, 0, 1), (71, 0, 0), (20, 2, 2), (7, 2, 0), (76, 0, 2), (14, 2, 0), (65, 0, 0), (37, 1, 2), (15, 2, 0), (25, 1, 0), (22, 3, 0), (37, 0, 0), (76, 0, 3), (33, 0, 0), (23, 2, 0), (62, 0, 0), (7, 0, 0), (86, 0, 0), (40, 1, 1), (32, 2, 2), (21, 0, 1), (41, 1, 0), (79, 0, 2), (25, 2, 0), (76, 0, 1), (62, 1, 1), (24, 0, 2), (64, 0, 1), (34, 0, 0), (34, 2, 1), (41, 1, 1), (27, 2, 1), (36, 1, 0), (17, 1, 0), (19, 1, 0), (80, 0, 0), (78, 0, 0), (18, 2, 1), (19, 2, 2), (28, 0, 1), (39, 0, 0), (11, 2, 1), (4, 2, 0), (27, 2, 0), (67, 1, 0), (46, 0, 0), (49, 0, 0), (44, 1, 0), (19, 1, 0), (43, 1, 0), (39, 0, 0), (30, 2, 1), (34, 1, 0), (42, 1, 0), (55, 1, 0), (55, 0, 1), (72, 1, 1), (48, 1, 0), (33, 0, 0), (7, 1, 0), (21, 1, 2), (33, 2, 1), (4, 1, 2), (89, 0, 0), (2, 1, 0), (34, 1, 0), (23, 1, 2), (28, 2, 0), (85, 0, 1), (76, 0, 1), (48, 0, 0), (27, 2, 0), (44, 1, 2), (45, 0, 0), (42, 0, 0), (20, 2, 0), (64, 1, 0), (63, 0, 0), (23, 2, 1), (81, 0, 1), (54, 0, 0), (54, 1, 0), (64, 0, 2), (38, 1, 0), (59, 0, 1), (30, 0, 0), (82, 0, 0), (13, 2, 0), (80, 0, 0), (74, 0, 2), (44, 1, 0), (62, 0, 0), (6, 3, 0), (89, 0, 0), (23, 2, 0), (10, 3, 1), (4, 0, 0), (2, 2, 0), (86, 0, 0), (46, 1, 1), (39, 0, 2), (49, 0, 1), (47, 1, 0), (1, 2, 0), (20, 2, 0), (4, 1, 2), (29, 0, 1), (52, 0, 0), (45, 0, 0), (22, 1, 0), (57, 0, 2), (20, 0, 0), (7, 1, 3), (19, 2, 1), (24, 1, 1), (13, 3, 1), (16, 1, 0), (4, 2, 2), (33, 2, 2), (56, 0, 2), (77, 1, 1), (35, 2, 1), (89, 1, 2), (8, 3, 1), (30, 1, 1), (2, 4, 0), (16, 2, 1), (35, 0, 0), (15, 1, 2), (56, 0, 2), (3, 4, 0), (83, 0, 1), (28, 2, 3), (25, 1, 0), (41, 0, 0), (69, 0, 0), (49, 0, 0), (3, 0, 0), (74, 0, 0), (73, 1, 1), (11, 2, 0), (3, 4, 0), (1, 3, 0), (49, 0, 0), (79, 0, 0), (25, 0, 0), (85, 0, 1), (39, 0, 0), (5, 1, 1), (30, 2, 0), (3, 0, 0), (42, 0, 2), (19, 2, 1), (37, 1, 0), (48, 1, 0), (10, 2, 0), (23, 2, 3), (47, 0, 0), (32, 0, 2), (30, 1, 1), (23, 2, 1), (47, 1, 0), (16, 2, 0), (0, 2, 1), (65, 0, 3), (8, 2, 0), (27, 1, 2), (27, 1, 1), (25, 2, 0), (28, 1, 2), (47, 0, 0), (11, 0, 0), (15, 2, 1), (49, 0, 1), (20, 2, 1), (18, 2, 0), (45, 0, 2), (21, 0, 3), (27, 2, 0), (45, 1, 2), (26, 2, 1), (66, 1, 3), (43, 1, 2), (67, 1, 1), (28, 0, 0), (77, 1, 1), (42, 0, 0), (11, 0, 2), (25, 1, 1), (14, 2, 1), (25, 1, 0), (23, 1, 0), (3, 0, 0), (71, 1, 1), (94, 0, 0), (52, 1, 0), (33, 1, 0), (8, 2, 0), (44, 0, 1), (40, 0, 0), (5, 3, 0), (12, 2, 0), (26, 0, 0), (23, 3, 1), (8, 1, 0), (51, 1, 0), (29, 1, 2), (1, 4, 2), (77, 1, 1), (0, 0, 0), (33, 0, 2), (89, 1, 3), (22, 0, 2), (55, 0, 2), (30, 0, 1), (28, 0, 3), (68, 1, 2), (48, 0, 0), (30, 1, 2), (21, 1, 1), (32, 2, 1), (7, 2, 0), (45, 0, 2), (10, 4, 0), (46, 1, 0), (44, 1, 0), (2, 3, 1), (27, 1, 0), (55, 1, 1), (39, 0, 0), (19, 0, 2), (27, 1, 1), (78, 0, 0), (80, 0, 0), (22, 2, 2), (27, 2, 0), (53, 0, 3), (42, 0, 2), (41, 1, 0), (4, 3, 0), (29, 0, 1), (59, 0, 1), (3, 0, 2), (7, 2, 1), (13, 1, 1), (10, 4, 0), (17, 3, 0), (1, 4, 0), (26, 1, 2), (87, 0, 0), (23, 0, 1), (45, 0, 0), (26, 2, 0), (26, 1, 0), (54, 0, 0), (43, 0, 0), (25, 0, 0), (16, 1, 1), (21, 2, 2), (40, 0, 1), (81, 0, 0), (16, 1, 1), (19, 2, 1), (83, 0, 0), (4, 0, 0), (19, 1, 0), (21, 1, 0), (7, 1, 0), (44, 0, 1), (8, 2, 0), (40, 0, 0), (47, 0, 0), (17, 2, 0), (20, 0, 2), (32, 2, 1), (10, 1, 2), (19, 1, 0), (14, 0, 3), (23, 0, 0), (66, 1, 1), (73, 1, 2), (48, 1, 0), (62, 1, 1), (9, 1, 0), (22, 0, 0), (87, 0, 0), (15, 2, 0), (21, 2, 0), (48, 1, 0), (11, 0, 0), (17, 2, 0), (3, 4, 1), (19, 0, 0), (62, 1, 2), (35, 0, 0), (8, 3, 0), (16, 2, 0), (5, 0, 0), (35, 0, 0), (2, 3, 0), (9, 3, 2), (34, 0, 0), (10, 1, 0), (17, 2, 0), (14, 1, 0), (11, 2, 1), (6, 2, 2), (23, 0, 0), (22, 3, 2), (12, 2, 0), (19, 0, 1), (68, 0, 0), (22, 2, 1), (40, 1, 0), (29, 2, 2), (17, 2, 0), (40, 1, 1), (26, 1, 0), (38, 1, 1), (2, 2, 2), (9, 2, 2), (34, 0, 1), (56, 0, 0), (20, 3, 0), (2, 0, 0), (46, 0, 2), (38, 0, 0), (38, 1, 0), (29, 0, 0), (25, 0, 1), (79, 1, 1), (0, 4, 1), (72, 1, 0), (1, 0, 0), (37, 0, 0), (25, 1, 0), (47, 1, 1), (5, 1, 1), (29, 2, 2), (14, 2, 2), (26, 2, 0), (47, 1, 1), (21, 1, 1), (87, 0, 0), (31, 1, 0), (19, 1, 0), (25, 1, 1), (34, 1, 0), (12, 1, 1), (42, 1, 0), (7, 0, 2), (8, 2, 0), (89, 0, 3), (79, 0, 0), (14, 2, 0), (38, 0, 0), (42, 1, 0), (26, 2, 1), (45, 0, 0), (16, 1, 1), (60, 0, 0), (8, 1, 0), (4, 1, 0), (29, 1, 2), (1, 2, 0), (71, 1, 0), (60, 0, 1), (82, 0, 0), (39, 1, 1), (20, 2, 1), (29, 1, 2), (82, 1, 0), (34, 1, 3), (44, 1, 1), (24, 0, 0), (5, 0, 0), (0, 2, 1), (24, 1, 1), (7, 0, 2), (28, 2, 0), (46, 0, 0), (9, 0, 1), (45, 1, 1), (16, 0, 0), (12, 3, 1), (80, 0, 1), (19, 2, 1), (21, 2, 1), (43, 0, 1), (43, 0, 2), (83, 0, 1), (3, 2, 0), (39, 1, 1), (34, 1, 2), (7, 4, 1), (29, 0, 3), (74, 0, 1), (65, 0, 1), (37, 1, 3), (49, 0, 0), (38, 1, 2), (25, 1, 0), (25, 1, 0), (35, 2, 0), (34, 2, 0), (52, 0, 2), (19, 3, 0), (45, 1, 1), (21, 1, 0), (23, 2, 0), (17, 1, 0), (13, 1, 1), (24, 1, 0), (69, 1, 0), (0, 2, 0), (15, 0, 1), (49, 0, 1), (40, 1, 0), (1, 0, 0), (4, 4, 0), (16, 1, 0), (2, 4, 2), (6, 4, 1), (61, 0, 2), (27, 2, 0), (23, 2, 2), (44, 0, 2), (32, 1, 2), (1, 4, 0), (65, 0, 0), (20, 2, 0), (23, 0, 0), (28, 2, 0), (47, 1, 1), (36, 0, 0), (2, 0, 0), (48, 1, 3), (14, 1, 1), (21, 2, 0), (35, 0, 0), (28, 0, 0), (35, 2, 2), (11, 3, 1), (17, 0, 1), (25, 1, 0), (13, 0, 3), (0, 3, 2), (19, 2, 0), (43, 1, 0), (42, 0, 1), (58, 0, 1), (40, 1, 2), (37, 1, 1), (57, 0, 2), (27, 1, 0), (33, 1, 1), (22, 0, 0), (37, 0, 0), (39, 0, 2), (21, 1, 0), (49, 0, 0), (78, 0, 0), (77, 0, 0), (29, 0, 0), (2, 2, 0), (40, 0, 2), (1, 1, 1), (15, 3, 0), (69, 1, 1), (24, 0, 3), (29, 1, 1), (77, 0, 0), (30, 2, 1), (31, 0, 0), (45, 0, 0), (1, 0, 0), (40, 0, 0), (1, 0, 1), (35, 0, 0), (56, 1, 2), (88, 0, 0), (29, 2, 0), (34, 2, 1), (24, 0, 1), (47, 1, 2), (71, 0, 1), (11, 0, 1), (22, 2, 0), (9, 0, 0), (2, 0, 1), (15, 3, 1), (58, 0, 0), (16, 0, 0), (46, 1, 0), (11, 0, 2), (88, 0, 2), (20, 0, 1), (47, 1, 0), (19, 2, 1), (24, 1, 0), (31, 0, 2), (0, 4, 0), (46, 0, 2), (2, 3, 1), (33, 2, 0), (11, 4, 0), (42, 1, 1), (35, 2, 0), (23, 1, 1), (47, 0, 1), (75, 0, 3), (30, 2, 0), (12, 0, 2), (11, 1, 1), (32, 2, 0), (7, 3, 1), (41, 1, 1), (3, 1, 0), (36, 0, 0), (17, 3, 0), (16, 1, 0), (26, 1, 0), (8, 2, 0), (7, 2, 0), (19, 0, 1), (9, 2, 2), (22, 2, 0), (5, 0, 0), (15, 2, 2), (45, 0, 2), (39, 0, 0), (2, 3, 0), (43, 0, 0), (44, 0, 3), (20, 2, 0), (32, 2, 1), (43, 0, 0), (80, 1, 0), (47, 0, 1), (62, 0, 1), (0, 1, 0), (20, 0, 1), (28, 2, 0), (27, 1, 0), (24, 2, 0), (77, 1, 1), (23, 1, 3), (49, 1, 1), (47, 0, 2), (82, 0, 0), (72, 0, 2), (9, 0, 0), (52, 1, 0), (50, 3, 1), (15, 2, 0), (20, 3, 1), (11, 1, 0), (48, 0, 0), (0, 2, 1), (14, 2, 1), (20, 0, 2), (20, 2, 2), (70, 0, 0), (77, 0, 0), (89, 0, 0), (16, 2, 1), (30, 1, 1), (6, 1, 1), (26, 2, 1), (46, 0, 0), (48, 1, 1), (20, 2, 2), (13, 1, 1), (13, 1, 2), (6, 4, 2), (38, 1, 1), (5, 2, 0), (3, 3, 0), (32, 2, 0), (22, 3, 0), (71, 0, 0), (33, 0, 2), (48, 0, 0), (35, 0, 0), (32, 1, 0), (4, 3, 0), (37, 0, 0), (30, 1, 0), (78, 0, 0), (49, 0, 1), (0, 0, 1), (24, 2, 1), (48, 1, 1), (35, 0, 1), (6, 2, 0), (17, 0, 0), (42, 0, 0), (45, 0, 1), (70, 0, 0), (30, 0, 0), (42, 1, 0), (43, 0, 0), (46, 0, 1), (24, 1, 1), (3, 1, 0), (29, 1, 1), (14, 2, 0), (41, 0, 2), (80, 0, 1), (31, 2, 0), (20, 2, 0), (29, 0, 0), (4, 1, 2), (39, 1, 0), (17, 1, 0), (28, 2, 1), (83, 0, 1), (12, 2, 1), (27, 2, 0), (70, 0, 1), (28, 0, 1), (5, 2, 0), (45, 1, 3), (12, 1, 2), (40, 0, 1), (54, 2, 1), (0, 3, 0), (7, 1, 1), (49, 0, 0), (8, 3, 1), (23, 3, 1), (1, 2, 0), (54, 0, 2), (39, 0, 0), (4, 3, 1), (38, 1, 1), (23, 1, 0), (45, 1, 1), (23, 0, 0), (48, 1, 0), (49, 1, 0), (27, 2, 0), (45, 0, 0), (17, 0, 1), (10, 0, 0), (27, 1, 1), (37, 0, 0), (27, 0, 1), (84, 1, 3), (37, 0, 0), (43, 0, 0), (72, 0, 0), (3, 4, 0), (41, 0, 0), (24, 1, 0), (9, 1, 1), (48, 1, 2), (37, 1, 1), (27, 2, 0), (65, 1, 0), (18, 0, 1), (14, 1, 0), (28, 0, 0), (2, 3, 1), (43, 0, 1), (37, 1, 0), (34, 0, 1), (24, 0, 1), (15, 0, 2), (20, 1, 1), (41, 0, 1), (5, 0, 1), (31, 0, 2), (43, 0, 1), (1, 1, 2), (7, 2, 2), (62, 0, 0), (2, 0, 0), (24, 2, 0), (30, 0, 2), (22, 2, 0), (50, 0, 2), (11, 2, 3), (31, 2, 0), (8, 0, 2), (41, 0, 0), (42, 1, 0), (24, 1, 1), (19, 0, 2), (43, 0, 0), (81, 0, 1), (48, 1, 1), (10, 2, 0), (21, 2, 1), (35, 2, 1), (28, 1, 0), (37, 1, 0), (26, 1, 0), (9, 0, 2), (55, 0, 0), (31, 0, 0), (14, 2, 0), (32, 0, 0), (85, 0, 2), (46, 1, 0), (28, 0, 0), (52, 1, 0), (76, 0, 1), (9, 2, 0), (3, 4, 3), (39, 1, 1), (2, 4, 0), (33, 2, 0), (78, 1, 2), (58, 0, 1), (23, 3, 0), (34, 1, 1), (15, 0, 0), (48, 1, 0), (76, 1, 0), (28, 2, 0), (0, 2, 3), (33, 0, 0), (15, 2, 0), (3, 2, 0), (14, 1, 1), (29, 0, 0), (87, 0, 0), (9, 2, 1), (9, 1, 0), (44, 1, 1), (37, 1, 0), (17, 2, 1), (7, 0, 0), (9, 0, 0), (39, 0, 2), (39, 0, 0), (5, 3, 0), (45, 0, 0), (30, 0, 0), (19, 2, 0), (47, 0, 1), (32, 0, 2), (12, 3, 1), (33, 1, 1), (64, 0, 2), (45, 1, 2), (31, 2, 0), (18, 2, 0), (28, 1, 0), (39, 0, 0), (18, 2, 0), (9, 0, 0), (46, 0, 0), (11, 0, 2), (49, 0, 2), (16, 0, 0), (27, 0, 2), (47, 1, 1), (65, 0, 3), (36, 1, 0), (24, 2, 0), (41, 0, 1), (44, 1, 0), (33, 2, 0), (27, 1, 0), (14, 0, 2), (41, 0, 1), (62, 0, 0), (36, 0, 2), (21, 2, 0), (79, 0, 1), (11, 2, 0), (42, 0, 0), (4, 1, 0), (28, 2, 0), (20, 0, 1), (44, 1, 2), (36, 1, 2), (84, 0, 2), (41, 0, 1), (38, 1, 0), (34, 0, 0), (23, 2, 0), (23, 2, 0), (44, 1, 1), (2, 1, 1), (23, 1, 1), (55, 0, 2), (44, 1, 1), (43, 0, 1), (30, 2, 0), (43, 0, 0), (39, 0, 0), (82, 0, 0), (31, 1, 0), (14, 0, 0), (40, 0, 2), (35, 1, 0), (23, 0, 2), (2, 2, 0), (12, 1, 2), (77, 0, 2), (59, 0, 0), (28, 1, 0), (54, 0, 0), (41, 0, 0), (45, 1, 0), (28, 0, 1), (32, 1, 3), (27, 2, 2), (84, 1, 0), (49, 0, 3), (4, 3, 2), (44, 0, 2), (43, 0, 0), (12, 3, 1), (47, 0, 1), (40, 0, 0), (24, 1, 1), (0, 1, 2), (39, 4, 0), (17, 0, 0), (60, 0, 0), (32, 0, 1), (3, 0, 2), (6, 2, 1), (30, 0, 1), (26, 0, 1), (17, 3, 1), (58, 0, 0), (32, 0, 0), (13, 2, 1), (85, 1, 0), (34, 2, 0), (10, 1, 1), (82, 0, 0), (15, 0, 0), (78, 0, 1), (45, 0, 0), (25, 2, 3), (14, 0, 0), (40, 1, 1), (19, 1, 0), (5, 1, 1), (15, 2, 0), (9, 3, 0), (23, 2, 0), (22, 2, 0), (48, 1, 0), (0, 4, 0), (37, 1, 1), (45, 1, 0), (15, 0, 0), (42, 0, 1), (55, 0, 1), (43, 1, 1), (3, 2, 1), (32, 2, 0), (21, 2, 0), (82, 0, 0), (22, 1, 0), (79, 1, 0), (2, 4, 0), (88, 1, 1), (32, 1, 0), (32, 0, 2), (14, 2, 0), (6, 3, 2), (2, 2, 1), (49, 0, 1), (49, 0, 2), (17, 0, 2), (33, 1, 3), (23, 1, 1), (33, 0, 2), (15, 2, 0), (33, 2, 0), (34, 2, 0), (48, 1, 0), (46, 0, 0), (18, 2, 0), (28, 1, 0), (2, 2, 0), (32, 1, 0), (9, 0, 0), (70, 0, 0), (17, 2, 0), (32, 2, 2), (79, 1, 0), (78, 0, 0), (36, 0, 0), (40, 0, 1), (64, 1, 3), (25, 0, 0), (23, 3, 1), (65, 0, 3), (3, 2, 0), (21, 2, 1), (12, 1, 2), (12, 2, 0), (3, 1, 0), (34, 1, 0), (70, 1, 2), (30, 0, 0), (4, 2, 0), (23, 1, 3), (6, 4, 0), (4, 4, 0), (22, 3, 0), (9, 0, 0), (89, 0, 0), (25, 2, 1), (39, 1, 1), (46, 1, 1), (74, 1, 0), (12, 2, 0), (3, 0, 0), (24, 0, 0), (44, 0, 0), (7, 3, 3), (11, 1, 0), (27, 0, 0), (6, 4, 2), (71, 1, 1), (8, 0, 1), (33, 0, 0), (1, 2, 1), (49, 0, 2), (35, 2, 0), (39, 0, 1), (5, 2, 0), (25, 0, 0), (54, 0, 1), (35, 1, 1), (5, 1, 2), (46, 0, 0), (12, 2, 0), (25, 0, 0), (84, 0, 0), (9, 2, 3), (19, 1, 1), (24, 2, 2), (38, 0, 1), (15, 1, 2), (66, 0, 1), (14, 3, 1), (64, 0, 0), (8, 4, 0), (87, 0, 0), (2, 1, 1), (47, 1, 0), (33, 2, 2), (35, 0, 1), (45, 1, 3), (31, 1, 0), (46, 0, 0), (2, 3, 0), (36, 1, 1), (14, 3, 3), (79, 0, 0), (4, 4, 1), (29, 0, 2), (14, 2, 0), (49, 0, 0), (20, 1, 0), (14, 0, 0), (12, 2, 3), (47, 0, 0), (20, 3, 2), (36, 0, 3), (36, 0, 0), (41, 1, 0), (8, 4, 0), (39, 1, 1), (32, 0, 1), (3, 2, 2), (35, 1, 0), (13, 2, 0), (10, 0, 0), (35, 1, 0), (77, 0, 0), (48, 0, 1), (40, 0, 1), (32, 1, 0), (12, 2, 0), (43, 0, 0), (30, 1, 0), (20, 0, 1), (22, 1, 1), (1, 2, 1), (5, 1, 0), (36, 2, 0), (76, 0, 1), (8, 1, 0), (30, 2, 0), (9, 0, 1), (34, 2, 0), (13, 2, 1), (39, 0, 0), (26, 0, 0), (32, 0, 0), (27, 1, 1), (68, 0, 1), (6, 4, 0), (36, 0, 1), (16, 2, 0), (58, 0, 0), (40, 0, 1), (23, 0, 1), (16, 3, 0), (43, 0, 0), (39, 1, 1), (26, 0, 0), (48, 0, 2), (53, 0, 0), (37, 1, 1), (47, 0, 1), (34, 2, 2), (17, 0, 0), (25, 1, 3), (60, 0, 0), (42, 1, 0), (13, 2, 0), (32, 2, 3), (14, 3, 0), (31, 1, 1), (10, 2, 2), (75, 0, 0), (40, 0, 1), (33, 0, 1), (85, 1, 0), (30, 0, 2), (44, 1, 0), (34, 1, 1), (43, 1, 0), (14, 2, 0), (49, 1, 1), (53, 0, 0), (88, 1, 0), (30, 2, 1), (17, 0, 1), (5, 2, 1), (12, 2, 1), (24, 0, 1), (9, 1, 0), (44, 1, 0), (34, 0, 0), (33, 2, 3), (41, 0, 0), (8, 4, 0), (48, 1, 0), (82, 0, 0), (33, 0, 0), (8, 3, 0), (15, 1, 1), (23, 3, 0), (29, 0, 2), (35, 0, 1), (43, 1, 1), (29, 1, 2), (4, 2, 2), (1, 0, 1), (20, 3, 0), (53, 1, 0), (30, 2, 0), (81, 0, 2), (18, 1, 2), (27, 2, 2), (42, 1, 0), (60, 0, 0), (82, 0, 0), (37, 0, 0), (52, 0, 0), (30, 2, 1), (69, 1, 0), (30, 2, 1), (2, 4, 0), (60, 0, 0), (36, 1, 0), (55, 1, 1), (80, 1, 0), (14, 2, 2), (33, 2, 0), (35, 1, 0), (21, 2, 0), (8, 2, 0), (43, 1, 0), (19, 2, 1), (25, 1, 0), (30, 2, 1), (17, 2, 2), (24, 0, 0), (3, 2, 0), (20, 3, 1), (18, 0, 0), (10, 4, 0), (33, 0, 0), (26, 1, 0), (1, 1, 0), (40, 1, 2), (13, 1, 1), (0, 4, 0), (24, 0, 0), (34, 0, 0), (33, 1, 0), (33, 0, 2), (0, 2, 0), (54, 1, 0), (13, 2, 0), (24, 0, 1), (46, 0, 0), (45, 0, 0), (38, 1, 0), (26, 1, 0), (44, 0, 2), (9, 0, 0), (20, 0, 1), (64, 0, 0), (3, 2, 0), (17, 1, 2), (39, 1, 0), (13, 1, 3), (14, 1, 1), (46, 1, 0), (1, 1, 2), (33, 0, 0), (39, 0, 0), (41, 1, 0), (24, 2, 0), (38, 1, 2), (58, 1, 0), (9, 2, 3), (48, 1, 0), (63, 0, 0), (26, 2, 0), (48, 0, 1), (21, 1, 2), (10, 3, 3), (6, 0, 0), (33, 2, 0), (3, 0, 3), (0, 4, 0), (84, 0, 1), (19, 0, 0), (41, 1, 1), (21, 1, 1), (45, 0, 3), (12, 3, 0)]\n",
    "# run wicket catch\n",
    "import numpy as np\n",
    "score_array=np.array(score)\n",
    "print(score_array.ndim) #Dimension fo score\n",
    "\n",
    "\n",
    "# Q- How many players scored 0 runs in their first inning?\n",
    "player_array=np.array(player)\n",
    "array1= score_array[score_array[:,0]==0]\n",
    "print(len(array1))\n",
    "# Q- What is the highest number of wickets taken by a player?\n",
    "print(np.max(score_array[:,1]))\n",
    "#Q- Find the ID of the player who scored the maximum runs in the innings\n",
    "max_run= np.max(score_array[:,0])\n",
    "index=np.where(score_array[:,0]==max_run)[0][0]\n",
    "print(player[index])\n",
    "\n",
    "#How many all-rounders are present in the provided list?\n",
    "#An all-rounder is someone who is good in both batting and bowling. Check if the individual has taken 2 or more wickets #and scored more than 35 runs in their innings.\n",
    "wicket_arr= score_array[score_array[:,1]>=2]\n",
    "run_arr= wicket_arr[wicket_arr[:,0]>35]\n",
    "print(len(run_arr))"
   ]
  },
  {
   "cell_type": "code",
   "execution_count": null,
   "metadata": {},
   "outputs": [],
   "source": []
  },
  {
   "cell_type": "code",
   "execution_count": null,
   "metadata": {},
   "outputs": [],
   "source": []
  }
 ],
 "metadata": {
  "kernelspec": {
   "display_name": "Python 3.9.13 ('base')",
   "language": "python",
   "name": "python3"
  },
  "language_info": {
   "codemirror_mode": {
    "name": "ipython",
    "version": 3
   },
   "file_extension": ".py",
   "mimetype": "text/x-python",
   "name": "python",
   "nbconvert_exporter": "python",
   "pygments_lexer": "ipython3",
   "version": "3.9.13"
  },
  "orig_nbformat": 4,
  "vscode": {
   "interpreter": {
    "hash": "1d65b2f1510214863f64e9f518735244531d5f03f2b40e9db4fc5e9cf9341bef"
   }
  }
 },
 "nbformat": 4,
 "nbformat_minor": 2
}
