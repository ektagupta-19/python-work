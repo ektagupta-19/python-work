{
 "cells": [
  {
   "cell_type": "code",
   "execution_count": null,
   "metadata": {},
   "outputs": [],
   "source": [
    "#Design a matric of m*n \n",
    "import ast\n",
    "ll= ast.literal_eval(input())\n",
    "m=int(ll[0])\n",
    "n=int(ll[1])\n",
    "\n",
    "final= [0]*n \n",
    "final= [list(final) for i in range(m)]\n",
    "\n",
    "for i in range(m):\n",
    "    for j in range(n):\n",
    "        if i==0 or i==m-1 or j==0 or j==n-1:\n",
    "            final[i][j]=1 \n",
    "for i in final:\n",
    "    print(i)\n",
    "\n",
    " "
   ]
  },
  {
   "cell_type": "code",
   "execution_count": 5,
   "metadata": {},
   "outputs": [
    {
     "name": "stdout",
     "output_type": "stream",
     "text": [
      "\n",
      "0\n"
     ]
    }
   ],
   "source": [
    "#check for palindrome in string\n",
    "#check for palindrome in string\n",
    "s = (input())\n",
    "s=s.lower()\n",
    "\n",
    "r=\"\"\n",
    "for i in s: \n",
    "    r= i +r \n",
    "if(s==r):\n",
    "    print(1)\n",
    "else:\n",
    "    print(0)\n"
   ]
  },
  {
   "cell_type": "code",
   "execution_count": 7,
   "metadata": {},
   "outputs": [
    {
     "name": "stdout",
     "output_type": "stream",
     "text": [
      "l i \n",
      "love i\n"
     ]
    }
   ],
   "source": [
    "#Reverse the sentence but not the words\n",
    "#method-1\n",
    "sentence=input()\n",
    "ll= sentence.split() \n",
    "ss=\"\"\n",
    "for i in ll:\n",
    "    ss=i+\" \"+ss \n",
    "print(ss)\n",
    "\n",
    "#method-2\n",
    "sentence=input()\n",
    "ll= sentence.split() \n",
    "ll.reverse()\n",
    "\n",
    "ss=' '.join(ll) \n",
    "print(ss)\n",
    "    "
   ]
  },
  {
   "cell_type": "code",
   "execution_count": 8,
   "metadata": {},
   "outputs": [
    {
     "name": "stdout",
     "output_type": "stream",
     "text": [
      "Data_Science\n"
     ]
    }
   ],
   "source": [
    "#Description\n",
    "\n",
    "#While naming entities, it is a common practice to avoid spaces. That is the reason you see so many people using underscores instead of spaces. \n",
    "#You will be given a string, containing a few spaces and random upper and lower cases. You have to write a code that will add underscore in place of spaces and also capitalise the letters properly, i.e. the first letter after underscore should be in upper case and the first letter of the string should be in upper case, all of the other letters should be lower case. \n",
    "#This type of activity is frequently encountered while starting to analyse data. This is called Data cleaning and you will learn more about it in upcoming modules.\n",
    "\n",
    "s=input()\n",
    "ll= s.split(' ')\n",
    "#ll = [i[0].upper()+i[1:].lower()  for i in ll]\n",
    "ll = [i.title() for i in ll]\n",
    "print('_'.join(ll))"
   ]
  },
  {
   "cell_type": "code",
   "execution_count": null,
   "metadata": {},
   "outputs": [],
   "source": [
    "#Input:\n",
    "#A list of integers.\n",
    "\n",
    "#Output:\n",
    "#A list of integers, with duplicates removed if any.\n",
    "\n",
    "import ast\n",
    "ll=ast.literal_eval(input())\n",
    "d={}\n",
    "for item in ll:\n",
    "    if item not in d:\n",
    "        d[item]=1\n",
    "        \n",
    "print(list(d.keys()))"
   ]
  },
  {
   "cell_type": "code",
   "execution_count": null,
   "metadata": {},
   "outputs": [],
   "source": [
    "#You will be converting a dictionary, \n",
    "# of string(keys) and list of string (values), \n",
    "#  to a list of strings.\n",
    "\n",
    "import ast\n",
    "input_str = input()\n",
    "#input dictionary has been received in input_dict\n",
    "input_dict = ast.literal_eval(input_str)\n",
    "ll=[]\n",
    "for item in input_dict.keys():\n",
    "    for word in input_dict[item]:\n",
    "        ll.append(item+'_'+word)\n",
    "print(ll)"
   ]
  },
  {
   "cell_type": "code",
   "execution_count": null,
   "metadata": {},
   "outputs": [],
   "source": [
    "\n",
    "#frequency of its characters is something like 1, 2, 3, 4, .... That is a character appears only once, another appears\n",
    "#  twice, another appears thrice and so on. \n",
    "# For example string '$yrr$ssrsr' is a string since the frequency of y:1, $:2, s:3, r:4,\n",
    "#  however string '$yrr$ssrsr%' will not be a string since it has two characters (y and %) with frequency 1.\n",
    "#  The frequency of characters should be of form 1, 2, 3, 4, 5... only.\n",
    " \n",
    "s=input()\n",
    "d={}\n",
    "for i in s:\n",
    "    if i not in d.keys():\n",
    "        d[i]= s.count(i)\n",
    "count=1 \n",
    "for i in range(1,len(d)+1):\n",
    "    if i not in  d.values():\n",
    "        count=0\n",
    "        break\n",
    "    \n",
    "if count==0:\n",
    "    print(\"False\")\n",
    "else:\n",
    "    print(\"True\")\n"
   ]
  },
  {
   "cell_type": "code",
   "execution_count": null,
   "metadata": {},
   "outputs": [],
   "source": [
    "#You will be given a string with a lot of brackets. You have to print if the brackets are balanced or not. Remember, there are three types of brackets: ‘( )’,  ‘{ }’ and ‘[ ]’.\n",
    "\n",
    "inp=input()\n",
    "stack=[]\n",
    "\n",
    "for i in inp:\n",
    "    if len(stack)==0 or i=='(' or i==\"{\" or i==\"[\":\n",
    "        stack.append(i)\n",
    "    elif i==')' and stack[-1]==\"(\":\n",
    "        stack.pop()\n",
    "    elif i=='}' and stack[-1]==\"{\":\n",
    "        stack.pop()\n",
    "    elif i==']' and stack[-1]==\"[\":\n",
    "        stack.pop()\n",
    "    else:\n",
    "        stack.append(i)\n",
    "\n",
    "if(len(stack)>1):\n",
    "    print(\"No\")\n",
    "else : print(\"Yes\")"
   ]
  },
  {
   "cell_type": "code",
   "execution_count": 17,
   "metadata": {},
   "outputs": [
    {
     "name": "stdout",
     "output_type": "stream",
     "text": [
      "{40, 95}\n",
      "[20, 21, 25, 62, 67, 71, 75, 76, 82]\n",
      "22\n",
      "0\n",
      "1\n",
      "0\n",
      "0\n"
     ]
    }
   ],
   "source": [
    "#c- cricket, f-Footbal, H- Hockey\n",
    "C = [7, 8, 9, 18, 20, 21, 25, 26, 27, 31, 32, 34, 35, 36, 40, 43, 45, 47, 53, 58, 62, 67, 68, 71, 72, 74, 75, 76, 80, 81, 82, 90, 93, 95, 97, 99]\n",
    "F = [1, 7, 10, 13, 16, 22, 24, 29, 30, 32, 34, 39, 40, 43, 44, 48, 56, 60, 65, 68, 69, 73, 77, 78, 90, 93, 94, 95, 96]\n",
    "H = [5, 12, 14, 17, 20, 21, 22, 25, 28, 30, 37, 38, 39, 40, 42, 44, 57, 59, 61, 62, 67, 71, 75, 76, 77, 82, 83, 86, 87, 92, 94, 95]\n",
    "\n",
    "#1 Find students who play all three sports\n",
    "c1=set(C)\n",
    "f1=set(F)\n",
    "h1=set(H)\n",
    "print((c1.intersection(f1,h1)))\n",
    "# Q2. Which are the players who play both cricket and hockey but don't play football?\n",
    "c1=set(C)\n",
    "f1=set(F)\n",
    "h1=set(H)\n",
    "print(sorted(((c1.intersection(h1))- f1)))\n",
    "# Q3. How many players play exactly two sports?\n",
    "c1=set(C)\n",
    "f1=set(F)\n",
    "h1=set(H)\n",
    "c2=(c1.intersection(h1))- f1\n",
    "c3=(c1.intersection(f1))- h1\n",
    "c4=(h1.intersection(f1))- c1 \n",
    "print(len(c2.union(c3,c4)))\n",
    "\n",
    "# Q4. Which of these students do not play any of the sports? (More than one option may be correct)\n",
    "if 41 in C: \n",
    "    print(1)\n",
    "elif 41 in F: \n",
    "    print(1)\n",
    "elif 41 in H: \n",
    "    print(1)\n",
    "else: \n",
    "    print(0)\n",
    "if 48 in C: \n",
    "    print(1)\n",
    "elif 48 in F: \n",
    "    print(1)\n",
    "elif 48 in H: \n",
    "    print(1)\n",
    "else: \n",
    "    print(0)\n",
    "if 63 in C: \n",
    "    print(1)\n",
    "elif 63 in F: \n",
    "    print(1)\n",
    "elif 63 in H: \n",
    "    print(1)\n",
    "else: \n",
    "    print(0)\n",
    "if 85 in C: \n",
    "    print(1)\n",
    "elif 85 in F: \n",
    "    print(1)\n",
    "elif 85 in H: \n",
    "    print(1)\n",
    "else: \n",
    "    print(0)"
   ]
  },
  {
   "cell_type": "code",
   "execution_count": 31,
   "metadata": {},
   "outputs": [
    {
     "name": "stdout",
     "output_type": "stream",
     "text": [
      "2770879\n",
      "(54948, 'Hilda')\n",
      "(3719550, 'Gaga: Five Foot Two')\n",
      "(3943452, 'Deliha 2')\n"
     ]
    }
   ],
   "source": [
    "netflix = {'The Debt Collector': 1821195, 'Act of Vengeance': 2804479, 'Paradise Lost': 2195477, \"Gerald's Game\": 3650626, 'Long Shot': 638440, 'Mak Cun': 1010311, 'Our Souls at Night': 3028705, 'Out of Thin Air': 2681938, \"Paul Hollywood's Big Continental Road Trip\": 230689, 'Satu Hari': 1012350, 'Monster High: Boo York, Boo York': 1526025, 'Cultivating the Seas: History and Future of the Full-Cycle Cultured Kindai Tuna': 2762103, 'Domino': 872663, 'TUNA GIRL': 2574816, '5CM': 2647713, 'Animal World': 220789, 'Hold the Dark': 2307432, 'Lessons from a School Shooting: Notes from Dunblane': 2419534, 'Made in Mexico': 3653712, 'Single': 239278, 'The 3rd Eye': 196138, 'The Sinking Of Van Der Wijck': 2831856, 'Two Catalonias': 1337119, 'Bobby Sands: 66 Days': 2005623, 'Bard of Blood': 744998, 'Deliha 2': 3638900, 'Dragons: Rescue Riders': 3241239, 'In the Shadow of the Moon': 1213329, 'Skylines': 1840094, 'Sturgill Simpson Presents Sound & Fury': 1915540, 'The Politician': 1019394, 'Weeds on Fire': 2273090, 'Much Loved': 3039852, 'Joseph: King of Dreams': 1734449, 'Malaal': 1926128, 'The Grandmaster': 2549410, 'The Inmate': 130965, 'The Hurricane Heist': 2191538, 'Def Comedy Jam 25': 1392697, 'Restless Creature: Wendy Whelan': 2474412, 'Print the Legend': 548250, 'Birders': 3478883, 'Furie': 2755115, 'Leap!': 1401638, 'Oh! Baby (Malayalam)': 839139, 'Oh! Baby (Tamil)': 2691505, 'USS Indianapolis: Men of Courage': 3286014, 'A Wrinkle in Time': 1258861, 'Teach Us All': 2428947, 'White Island': 1152905, 'Inside Man: Most Wanted': 2812661, 'Jeff Dunham: Beside Himself': 2930368, 'China Salesman': 3377292, 'Swearnet: The Movie': 949689, 'The Bar': 620655, 'Manmadhudu 2': 1842761, 'Team Kaylie': 359856, 'Under the Eiffel Tower': 2298237, 'Audrie & Daisy': 1573055, 'Iliza Shlesinger: Confirmed Kills': 365220, 'BONDING': 1664242, 'Do Paise Ki Dhoop Chaar Aane Ki Baarish': 2770879, '20 Feet From Stardom': 2931730, 'In Darkness': 3248749, 'Gaga: Five Foot Two': 3719550, 'The Bad Batch': 3656264, 'SMOSH: The Movie': 3697506, 'King of Boys': 584112, 'Merry Men: The Real Yoruba Demons': 2035595, \"Sarah's Key\": 1337902, 'The Wedding Party 2: Destination Dubai': 1471204, 'Vagabond': 1600432, 'Battlefish': 723021, 'DRAGON PILOT: Hisone & Masotan': 602919, 'Hilda': 54948, 'Maniac': 1348196, 'Quincy': 2601704, 'Rafinha Bastos: Ultimatum': 3469996, 'The Good Cop': 2265521, 'Between Two Ferns: The Movie': 3146508, 'Criminal: France': 2021409, 'Criminal: Germany': 658824, 'Criminal: Spain': 3078634, 'Criminal: UK': 2721398, 'Daddy Issues': 2119035, \"Inside Bill's Brain: Decoding Bill Gates\": 1755104, 'The Hockey Girls': 2000507, 'Travel Mates 2': 707260, 'True: Tricky Treat Day': 3213199, 'Two Sentence Horror Stories': 2438329, 'Mad World': 2281773, 'Mobile Suit Gundam UC': 778879, 'The Bund': 1729892, 'The First Line': 674591, 'Maynard': 84986, 'Monkey Twins': 3277179, 'Bitcoin Heist': 1450158, 'I Am Not Madame Bovary': 2763830, 'Vincent N Roxxy': 1961810, \"Chef's Table: France\": 2065738}\n",
    "\n",
    "# Q1. There's an Indian movie in the dictionary named `Do Paise Ki Dhoop Chaar Aane Ki Baarish`. What is the number of views for this movie?\n",
    "\n",
    "print(netflix[\"Do Paise Ki Dhoop Chaar Aane Ki Baarish\"])\n",
    "#Q2,Which of the shows is the most and least popular in terms of number of views?\n",
    "mini= min(zip(netflix.values(), netflix.keys()))\n",
    "print(mini)\n",
    "max1= max(zip(netflix.values(), netflix.keys()))\n",
    "print(max1)\n",
    "#Q Netflix has just recieved the number of views for the last week as well. Add these views to the total views and find the most popular title in terms of views. Also find out how many views this title has?\n",
    "\n",
    "netflix_last_week = {'The Debt Collector': 229218, 'Act of Vengeance': 191468, 'Paradise Lost': 167846, \"Gerald's Game\": 113298, 'Long Shot': 15190, 'Mak Cun': 244581, 'Our Souls at Night': 188095, 'Out of Thin Air': 183961, \"Paul Hollywood's Big Continental Road Trip\": 207967, 'Satu Hari': 226211, 'Monster High: Boo York, Boo York': 265919, 'Cultivating the Seas: History and Future of the Full-Cycle Cultured Kindai Tuna': 192246, 'Domino': 190538, 'TUNA GIRL': 301819, '5CM': 154371, 'Animal World': 228227, 'Hold the Dark': 222938, 'Lessons from a School Shooting: Notes from Dunblane': 256580, 'Made in Mexico': 199790, 'Single': 155517, 'The 3rd Eye': 251349, 'The Sinking Of Van Der Wijck': 153797, 'Two Catalonias': 189422, 'Bobby Sands: 66 Days': 202461, 'Bard of Blood': 241928, 'Deliha 2': 304552, 'Dragons: Rescue Riders': 155149, 'In the Shadow of the Moon': 222999, 'Skylines': 118737, 'Sturgill Simpson Presents Sound & Fury': 43590, 'The Politician': 11902, 'Weeds on Fire': 243382, 'Much Loved': 190123, 'Joseph: King of Dreams': 46104, 'Malaal': 70961, 'The Grandmaster': 44908, 'The Inmate': 19574, 'The Hurricane Heist': 167696, 'Def Comedy Jam 25': 208075, 'Restless Creature: Wendy Whelan': 22976, 'Print the Legend': 161584, 'Birders': 257668, 'Furie': 282266, 'Leap!': 124338, 'Oh! Baby (Malayalam)': 18203, 'Oh! Baby (Tamil)': 131481, 'USS Indianapolis: Men of Courage': 76558, 'A Wrinkle in Time': 169365, 'Teach Us All': 50378, 'White Island': 299779, 'Inside Man: Most Wanted': 123346, 'Jeff Dunham: Beside Himself': 283561, 'China Salesman': 182041, 'Swearnet: The Movie': 63809, 'The Bar': 41243, 'Manmadhudu 2': 261349, 'Team Kaylie': 101283, 'Under the Eiffel Tower': 83650, 'Audrie & Daisy': 106092, 'Iliza Shlesinger: Confirmed Kills': 255103, 'BONDING': 202683, 'Do Paise Ki Dhoop Chaar Aane Ki Baarish': 32329, '20 Feet From Stardom': 165178, 'In Darkness': 95259, 'Gaga: Five Foot Two': 36638, 'The Bad Batch': 197820, 'SMOSH: The Movie': 196519, 'King of Boys': 49332, 'Merry Men: The Real Yoruba Demons': 293229, \"Sarah's Key\": 178523, 'The Wedding Party 2: Destination Dubai': 51211, 'Vagabond': 116831, 'Battlefish': 5448, 'DRAGON PILOT: Hisone & Masotan': 281873, 'Hilda': 21348, 'Maniac': 268187, 'Quincy': 139696, 'Rafinha Bastos: Ultimatum': 105449, 'The Good Cop': 73230, 'Between Two Ferns: The Movie': 135600, 'Criminal: France': 243469, 'Criminal: Germany': 285211, 'Criminal: Spain': 45184, 'Criminal: UK': 117056, 'Daddy Issues': 267329, \"Inside Bill's Brain: Decoding Bill Gates\": 64083, 'The Hockey Girls': 114146, 'Travel Mates 2': 21088, 'True: Tricky Treat Day': 116504, 'Two Sentence Horror Stories': 274471, 'Mad World': 225244, 'Mobile Suit Gundam UC': 47306, 'The Bund': 146872, 'The First Line': 148861, 'Maynard': 87252, 'Monkey Twins': 199274, 'Bitcoin Heist': 41105, 'I Am Not Madame Bovary': 57841, 'Vincent N Roxxy': 207453, \"Chef's Table: France\": 200536}\n",
    "\n",
    "def mergeview(dict1 , dict2):\n",
    "     for item in dict2.keys():\n",
    "        if item in dict1.keys():\n",
    "            dict1[item]= dict1[item]+ dict2[item]\n",
    "        else:\n",
    "            dict1[item]= dict2[item]\n",
    "\n",
    "mergeview(netflix, netflix_last_week)\n",
    "#print(netflix.keys(), netflix.values())\n",
    "max1= max(zip(netflix.values(), netflix.keys()))\n",
    "print(max1)"
   ]
  },
  {
   "cell_type": "code",
   "execution_count": null,
   "metadata": {},
   "outputs": [],
   "source": [
    "#Write a program that receives a string and shifts all the vowels present in it to the beginning. \n",
    "#Output the resultant string. The order of all the vowels with respect to each other as well as \n",
    "#the order of all the other characters with respect to each other should stay the same.\n",
    "\n",
    "#Input:\n",
    "#A string\n",
    "\n",
    "#Output:\n",
    "#Vowels shifted to the beginning in the input string.\n",
    " \n",
    "s = input()\n",
    "v=\"\"\n",
    "c=\"\"\n",
    "vow=\"aeiouAEIOU\"\n",
    "for i in s:\n",
    "    if i in vow:\n",
    "        v=v+i\n",
    "    else:\n",
    "        c=c+i\n",
    "print(v.strip()+c.strip())"
   ]
  },
  {
   "cell_type": "code",
   "execution_count": null,
   "metadata": {},
   "outputs": [],
   "source": [
    "# find the Common Prefix\n",
    "#You will be given two strings. You have to find the largest prefix common in both the strings.\n",
    "\n",
    "string1=input()\n",
    "string2=input()\n",
    "string1= string1.lower()\n",
    "string2= string2.lower()\n",
    "l1= min(len(string1), len(string2))  \n",
    "ss=\"\"\n",
    "for i in range(l1):\n",
    "    if string1[i]!=string2[i]:\n",
    "        break;\n",
    "if i==0:\n",
    "    print(-1)\n",
    "else:\n",
    "    print(string1[:i])"
   ]
  },
  {
   "cell_type": "code",
   "execution_count": null,
   "metadata": {},
   "outputs": [],
   "source": [
    "# Final the word is anagram or not?\n",
    "word1= input()\n",
    "word2= input()\n",
    "l1=[i  for i in word1]\n",
    "l2=[i  for i in word2]\n",
    "count=1\n",
    "if(len(l1)==len(l2)):\n",
    "    for i in range(len(l1)):\n",
    "        if l2.count(l1[i])==l1.count(l2[i]):\n",
    "            count=1\n",
    "        else: count=0\n",
    "    if(count==1): print(\"True\")\n",
    "    else: print(\"False\")\n",
    "else:\n",
    "        print(\"False\")"
   ]
  },
  {
   "cell_type": "code",
   "execution_count": null,
   "metadata": {},
   "outputs": [],
   "source": [
    "#You are planning to go to your friend's wedding and you have long events all month, lasting at least a few days. You have the start and end dates of events and your task is to find out events overlapping with the wedding date.\n",
    "#The code for taking input has already been written for you, please don't modify that, but do read and try to understand the way input has been taken. You will be asked to take input on your own for most of the problems here onwards. Taking data in a suitable format is an important skill for a Data Scientist.\n",
    "#Input:\n",
    "#The input will contain a list of lists where each sub-list has only two elements representing the start and end date of an event, the start date will be less than or equal to the end date. The next line of input will have a wedding date. \n",
    "#Output:\n",
    "#The output should have the number of events overlapping with the wedding date.\n",
    "\n",
    "import ast\n",
    "input_str1 = input()\n",
    "input_list1 = ast.literal_eval(input_str1)\n",
    "events = input_list1\n",
    "wedding = int(input())\n",
    "count=0\n",
    "for dates in events:\n",
    "    #print(dates[0],dates[1])\n",
    "    for dd in range(dates[0],dates[1]):\n",
    "     \n",
    "     if(wedding ==dd):\n",
    "        count+= 1\n",
    "       \n",
    "print(count) "
   ]
  },
  {
   "cell_type": "code",
   "execution_count": null,
   "metadata": {},
   "outputs": [],
   "source": [
    "#Suppose you are a manager as a big firm and now are looking for new members for your team. You sent out an advertisement and have received a few applications. You have a habit of scoring people on a scale of 100. You have given scores to all the members of your team and the new applications. The process of selection is going to be very straightforward if the applicant improves the average of the team then you hire the applicant to join the team or else reject the application. Remember the order of processing applications is going to be important here.\n",
    "#You may see this as an extension of the previous problem, which it is. You may use the code written in the previous question as a function to improve the code quality.\n",
    "#Input:\n",
    "#Two lists on two separate lines.\n",
    "#The first line will have the list of scores of current team members\n",
    "#The second line will have the list of scores of the applicants.\n",
    "#Output:\n",
    "#The list consisting of scores of the final team after hiring from the pool of applicants.\n",
    "import ast\n",
    "applicant=ast.literal_eval(input())\n",
    "score=ast.literal_eval(input())\n",
    "team=[]\n",
    "def check(score, appli):\n",
    "    avg_= sum(score)/len(score)\n",
    "     \n",
    "    if(appli>avg_):\n",
    "        return 1\n",
    "    else : return 0\n",
    "   \n",
    "for i in score:\n",
    "    ii= check(applicant, i)\n",
    "    if(ii==1):\n",
    "        applicant.append(i)\n",
    "print(applicant)\n"
   ]
  },
  {
   "cell_type": "code",
   "execution_count": null,
   "metadata": {},
   "outputs": [],
   "source": [
    "#Finding the average of the data and comparing it with other values is often encountered while analysing the data. Here you will do the same thing. The data will be provided to you in a list. You will also be given a number check.  You will return whether the number check is above average or no.\n",
    "#Input:\n",
    "#A list with two elements:\n",
    "#The first element will be the list of data of integers and\n",
    "#The second element will be an integer check.\n",
    "#Output:\n",
    "#True if check is above average and False otherwise\n",
    " \n",
    "import ast\n",
    "input_str = input()\n",
    "input_list = ast.literal_eval(input_str)\n",
    " \n",
    "\n",
    "data=input_list[0]\n",
    "check= input_list[1]\n",
    "avg=sum(data)/len(data)\n",
    "if check>avg: print('True')\n",
    "else: print('False')\n"
   ]
  },
  {
   "cell_type": "code",
   "execution_count": null,
   "metadata": {},
   "outputs": [],
   "source": [
    "#You will be given a number. You have to reverse the digits of the number and print it.\n",
    "#Input:\n",
    "#A positive integer greater than zero\n",
    "#Output:\n",
    "#The number in reverse order. Check sample outputs for more details.\n",
    "\n",
    "num= int(input())\n",
    "var=\"\"\n",
    "while num>10 and num%10<10:\n",
    "    var+= str(num%10)\n",
    "    num=num//10\n",
    "   \n",
    "print(var+str(num%10))"
   ]
  },
  {
   "cell_type": "code",
   "execution_count": null,
   "metadata": {},
   "outputs": [],
   "source": [
    "#Find factorial of a number\n",
    "number= int(input())\n",
    "\n",
    "def factorial(n):\n",
    "    i=1\n",
    "    f=1;\n",
    "    if n>0 :\n",
    "        while i <= n:\n",
    "            f=f*i\n",
    "            i=i+1\n",
    "        return f\n",
    "    elif n==0 :\n",
    "        return 1\n",
    "    elif n<0 :\n",
    "        return -1 \n",
    "k=factorial(number)\n",
    "print(k)\n"
   ]
  },
  {
   "cell_type": "code",
   "execution_count": null,
   "metadata": {},
   "outputs": [],
   "source": [
    "#You're trying to automate your alarm clock by writing a function for it. You're given a day of the week encoded as 1=Mon, 2=Tue, ... 6=Sat, 7=Sun, and whether you are on vacation as a boolean value (a boolean object is either True or False. Google \"booleans python\" to get a better understanding). Based on the day and whether you're on vacation, write a function that returns a time in form of a string indicating when the alarm clock should ring. \n",
    "#When not on a vacation, on weekdays, the alarm should ring at \"7:00\" and on the weekends (Saturday and Sunday) it should ring at \"10:00\". \n",
    "#While on a vacation, it should ring at \"10:00\" on weekdays. On vacation, it should not ring on weekends, that is, it should return \"off\".\n",
    "\n",
    "#Input:\n",
    "#The input will be a list of two elements. The first element will be an integer from 1 to 7, and the second element will be a boolean value.\n",
    "\n",
    "#Output:\n",
    "#The output will be a string denoting the time alarm will ring or 'off'\n",
    "day_of_the_week = input_list[0] #first element is an integer denoting the day of the week\n",
    "is_on_vacation = input_list[1] #this is a boolean denoting if its vacation or not\n",
    "if(is_on_vacation==True and day_of_the_week in [1,2,3,4,5]):\n",
    "    print(\"10:00\")\n",
    "elif (is_on_vacation==True and day_of_the_week in [6,7]):\n",
    "    print(\"off\")\n",
    "elif (is_on_vacation==False and day_of_the_week in [6,7]):\n",
    "    print(\"10:00\")\n",
    "elif (is_on_vacation==False and day_of_the_week in [1,2,3,4,5]):  \n",
    "    print(\"7:00\")"
   ]
  }
 ],
 "metadata": {
  "kernelspec": {
   "display_name": "Python 3.9.13 ('base')",
   "language": "python",
   "name": "python3"
  },
  "language_info": {
   "codemirror_mode": {
    "name": "ipython",
    "version": 3
   },
   "file_extension": ".py",
   "mimetype": "text/x-python",
   "name": "python",
   "nbconvert_exporter": "python",
   "pygments_lexer": "ipython3",
   "version": "3.9.13"
  },
  "orig_nbformat": 4,
  "vscode": {
   "interpreter": {
    "hash": "1d65b2f1510214863f64e9f518735244531d5f03f2b40e9db4fc5e9cf9341bef"
   }
  }
 },
 "nbformat": 4,
 "nbformat_minor": 2
}
