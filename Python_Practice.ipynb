{
 "cells": [
  {
   "attachments": {},
   "cell_type": "markdown",
   "metadata": {},
   "source": [
    "Write a Python (or R) program that asks the user to enter an integer (X), then:\n",
    "\n",
    "- Determines if X is prime or not\n",
    "- If X is not prime, compute and print the factors of that integer X\n",
    "- Evaluate and print the equation Y=8X²+ 1, for X values from -5 to 5 using the range function and for loop"
   ]
  },
  {
   "cell_type": "code",
   "execution_count": 43,
   "metadata": {},
   "outputs": [],
   "source": [
    "import pandas as pd\n",
    "import numpy as np"
   ]
  },
  {
   "attachments": {},
   "cell_type": "markdown",
   "metadata": {},
   "source": [
    "X is prime number if it divisible other than own number and should be greater than 1"
   ]
  },
  {
   "cell_type": "code",
   "execution_count": 51,
   "metadata": {},
   "outputs": [
    {
     "name": "stdout",
     "output_type": "stream",
     "text": [
      "9 is not a Prime Number\n",
      "Factors of 9 are : 3,\n",
      "y=8x2+1, for value : -5 - 201\n",
      "y=8x2+1, for value : -4 - 129\n",
      "y=8x2+1, for value : -3 - 73\n",
      "y=8x2+1, for value : -2 - 33\n",
      "y=8x2+1, for value : -1 - 9\n",
      "y=8x2+1, for value : 0 - 1\n",
      "y=8x2+1, for value : 1 - 9\n",
      "y=8x2+1, for value : 2 - 33\n",
      "y=8x2+1, for value : 3 - 73\n",
      "y=8x2+1, for value : 4 - 129\n"
     ]
    }
   ],
   "source": [
    "def isprimecheck(x):\n",
    "    for i in range(2, int(x/2)+1):\n",
    "        if x%i==0:\n",
    "            return 0\n",
    "            break\n",
    "    else: \n",
    "            return 1\n",
    "\n",
    "def returnfactor(x):\n",
    "    factors=\"\"\n",
    "    for i in range(2, x):\n",
    "        if x%i==0:\n",
    "            factors+=  str(i)+\",\"\n",
    "    return factors\n",
    "\n",
    "def eval():\n",
    "    for i in range(-5,5):\n",
    "        print(\"y=8x2+1, for value : \"+ str(i)+ \" - \"+ str(8*i*i+1))\n",
    "\n",
    "x= int(input(\"Enter a Number : \"))\n",
    "data=isprimecheck(x)\n",
    "if data==1:\n",
    "    print(str(x)+\" is a Prime Number\")\n",
    "else: \n",
    "    print(str(x)+\" is not a Prime Number\")\n",
    "    factors=returnfactor(x)\n",
    "    if factors!=\"\":\n",
    "        print(\"Factors of \"+ str(x)+ \" are : \"+ factors)\n",
    "eval()"
   ]
  },
  {
   "attachments": {},
   "cell_type": "markdown",
   "metadata": {},
   "source": [
    "Q-2 \n",
    "Welcome to the simple math helper.\n",
    "What would you like to calculate?\n",
    "1. Sqrt\n",
    "2. Log\n",
    "3. Factorial\n",
    "> 1\n",
    "Enter the number to sqrt:\n",
    ">9\n",
    "3"
   ]
  },
  {
   "cell_type": "code",
   "execution_count": 55,
   "metadata": {},
   "outputs": [
    {
     "name": "stdout",
     "output_type": "stream",
     "text": [
      "Factorial of 5 is 120\n"
     ]
    }
   ],
   "source": [
    "from math import sqrt\n",
    "from math import log\n",
    "from math import factorial\n",
    "data= int(input(\"What would you like to calculate? 1- Sqrt, 2- Log, 3- Factorial : \"))\n",
    "if(data==1):\n",
    "    x=int(input(\"Enter the number to sqrt: \"))\n",
    "    print(\"sqrt of \" + str(x) + \" is \" + str(sqrt(x)))\n",
    "elif (data==2):    \n",
    "    x=int(input(\"Enter the number to Log: \"))\n",
    "    print(\"Log of \" + str(x) + \" is \" + str(log(x)))\n",
    "elif (data==3):    \n",
    "    x=int(input(\"Enter the number to Factorial: \"))\n",
    "    print(\"Factorial of \" + str(x) + \" is \" + str(factorial(x)))\n",
    "else:\n",
    "    print(\"Choose Correct option from 1/2/3\")"
   ]
  },
  {
   "cell_type": "code",
   "execution_count": null,
   "metadata": {},
   "outputs": [],
   "source": []
  }
 ],
 "metadata": {
  "kernelspec": {
   "display_name": "Python 3.9.13 ('base')",
   "language": "python",
   "name": "python3"
  },
  "language_info": {
   "codemirror_mode": {
    "name": "ipython",
    "version": 3
   },
   "file_extension": ".py",
   "mimetype": "text/x-python",
   "name": "python",
   "nbconvert_exporter": "python",
   "pygments_lexer": "ipython3",
   "version": "3.9.13"
  },
  "orig_nbformat": 4,
  "vscode": {
   "interpreter": {
    "hash": "1d65b2f1510214863f64e9f518735244531d5f03f2b40e9db4fc5e9cf9341bef"
   }
  }
 },
 "nbformat": 4,
 "nbformat_minor": 2
}
