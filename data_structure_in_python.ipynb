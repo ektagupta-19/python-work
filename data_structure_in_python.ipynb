{
  "cells": [
    {
      "cell_type": "code",
      "execution_count": 7,
      "metadata": {
        "id": "-77xS6en6C3o"
      },
      "outputs": [],
      "source": [
        "# 1- Data Structure- Dictionary "
      ]
    },
    {
      "cell_type": "code",
      "execution_count": 6,
      "metadata": {
        "colab": {
          "base_uri": "https://localhost:8080/"
        },
        "id": "FKY8LFjm68Ws",
        "outputId": "8177e02f-c039-4595-84b3-689f5b2fee26"
      },
      "outputs": [
        {
          "name": "stdout",
          "output_type": "stream",
          "text": [
            "{101: 43, 102: 25, 103: 43, 104: 31, 105: 26, 106: 28, 107: 29, 108: 43, 109: 25, 110: 22, 111: 22, 112: 25, 113: 30, 115: 45, 116: 23, 117: 29, 118: 28, 119: 30, 120: 28, 121: 42, 122: 39, 123: 29, 124: 42, 125: 43, 126: 42, 127: 40, 128: 27, 129: 23, 130: 30, 131: 37, 132: 20, 133: 36, 134: 27, 135: 27, 136: 22, 137: 28, 138: 23, 139: 45, 140: 39, 141: 29, 142: 33, 143: 39, 145: 34, 146: 26, 147: 30, 148: 38, 149: 29, 150: 24, 151: 28, 152: 34, 153: 42, 154: 29, 155: 23, 156: 31, 158: 25, 160: 45, 161: 42, 162: 27, 163: 24, 164: 20, 166: 24, 167: 28, 168: 20, 169: 33, 170: 34, 171: 37, 172: 45, 173: 35, 174: 23, 175: 44, 176: 27, 177: 30, 178: 26, 179: 27}\n"
          ]
        }
      ],
      "source": [
        "# Print the Dictionary\n",
        "Employee_data ={101: 43, 102: 25, 103: 43, 104: 31, 105: 26, 106: 28, 107: 29, 108: 43, 109: 25, 110: 22, 111: 22, 112: 25, 113: 30, 115: 45, 116: 23, 117: 29, 118: 28, 119: 30, 120: 28, 121: 42, 122: 39, 123: 29, 124: 42, 125: 43, 126: 42, 127: 40, 128: 27, 129: 23, 130: 30, 131: 37, 132: 20, 133: 36, 134: 27, 135: 27, 136: 22, 137: 28, 138: 23, 139: 45, 140: 39, 141: 29, 142: 33, 143: 39, 145: 34, 146: 26, 147: 30, 148: 38, 149: 29, 150: 24, 151: 28, 152: 34, 153: 42, 154: 29, 155: 23, 156: 31, 158: 25, 160: 45, 161: 42, 162: 27, 163: 24, 164: 20, 166: 24, 167: 28, 168: 20, 169: 33, 170: 34, 171: 37, 172: 45, 173: 35, 174: 23, 175: 44, 176: 27, 177: 30, 178: 26, 179: 27} \n",
        "print(Employee_data)"
      ]
    },
    {
      "cell_type": "code",
      "execution_count": 1,
      "metadata": {
        "colab": {
          "base_uri": "https://localhost:8080/"
        },
        "id": "SjCG89CR7Dez",
        "outputId": "eb9a37bf-c0d4-452a-eb4b-e2acf4bd6adf"
      },
      "outputs": [
        {
          "name": "stdout",
          "output_type": "stream",
          "text": [
            "45\n"
          ]
        }
      ],
      "source": [
        "#Identify the senior most employee age\n",
        "# employee data with key as id of the employee and values as age of the employee\n",
        "\n",
        "Employee_data ={101: 43, 102: 25, 103: 43, 104: 31, 105: 26, 106: 28, 107: 29, 108: 43, 109: 25, 110: 22, 111: 22, 112: 25, 113: 30, 115: 45, 116: 23, 117: 29, 118: 28, 119: 30, 120: 28, 121: 42, 122: 39, 123: 29, 124: 42, 125: 43, 126: 42, 127: 40, 128: 27, 129: 23, 130: 30, 131: 37, 132: 20, 133: 36, 134: 27, 135: 27, 136: 22, 137: 28, 138: 23, 139: 45, 140: 39, 141: 29, 142: 33, 143: 39, 145: 34, 146: 26, 147: 30, 148: 38, 149: 29, 150: 24, 151: 28, 152: 34, 153: 42, 154: 29, 155: 23, 156: 31, 158: 25, 160: 45, 161: 42, 162: 27, 163: 24, 164: 20, 166: 24, 167: 28, 168: 20, 169: 33, 170: 34, 171: 37, 172: 45, 173: 35, 174: 23, 175: 44, 176: 27, 177: 30, 178: 26, 179: 27} \n",
        "print(max(Employee_data.values()))"
      ]
    },
    {
      "cell_type": "code",
      "execution_count": 2,
      "metadata": {
        "colab": {
          "base_uri": "https://localhost:8080/"
        },
        "id": "7aEV_EJe7gpN",
        "outputId": "6f130f44-e788-4d35-fa1c-d5489ef3e5a1"
      },
      "outputs": [
        {
          "name": "stdout",
          "output_type": "stream",
          "text": [
            "NA\n"
          ]
        }
      ],
      "source": [
        "#Identify the age of employee with 159 employee id\n",
        "if 159 in Employee_data.keys() :\n",
        "  print(Employee_data[159])\n",
        "else:\n",
        "  print(\"NA\")\n"
      ]
    },
    {
      "cell_type": "code",
      "execution_count": 3,
      "metadata": {
        "colab": {
          "base_uri": "https://localhost:8080/"
        },
        "id": "eK6XqtP29c98",
        "outputId": "7c826044-465f-418f-8fec-bbe34f05c95f"
      },
      "outputs": [
        {
          "name": "stdout",
          "output_type": "stream",
          "text": [
            "74\n"
          ]
        }
      ],
      "source": [
        "#count total number of employees in organisation\n",
        "print(len(Employee_data))"
      ]
    },
    {
      "cell_type": "code",
      "execution_count": 4,
      "metadata": {
        "colab": {
          "base_uri": "https://localhost:8080/"
        },
        "id": "oSGru7_l9mUE",
        "outputId": "59cc254a-b064-4408-fda5-877ba909c9bc"
      },
      "outputs": [
        {
          "name": "stdout",
          "output_type": "stream",
          "text": [
            "31.364864864864863\n"
          ]
        }
      ],
      "source": [
        "#get mean age of employees\n",
        "print(sum(Employee_data.values())/ len(Employee_data))"
      ]
    },
    {
      "cell_type": "code",
      "execution_count": 1,
      "metadata": {
        "colab": {
          "base_uri": "https://localhost:8080/"
        },
        "id": "fVkGEghs968C",
        "outputId": "ed715948-c2ea-490a-ca27-0943c55976cd"
      },
      "outputs": [
        {
          "ename": "NameError",
          "evalue": "name 'Employee_data' is not defined",
          "output_type": "error",
          "traceback": [
            "\u001b[1;31m---------------------------------------------------------------------------\u001b[0m",
            "\u001b[1;31mNameError\u001b[0m                                 Traceback (most recent call last)",
            "\u001b[1;32m~\\AppData\\Local\\Temp\\ipykernel_25476\\3495295893.py\u001b[0m in \u001b[0;36m<module>\u001b[1;34m\u001b[0m\n\u001b[0;32m      2\u001b[0m \u001b[1;31m#delete employee 143\u001b[0m\u001b[1;33m\u001b[0m\u001b[1;33m\u001b[0m\u001b[0m\n\u001b[0;32m      3\u001b[0m \u001b[1;31m#calculate mean\u001b[0m\u001b[1;33m\u001b[0m\u001b[1;33m\u001b[0m\u001b[0m\n\u001b[1;32m----> 4\u001b[1;33m \u001b[0mEmployee_data\u001b[0m\u001b[1;33m[\u001b[0m\u001b[1;36m104\u001b[0m\u001b[1;33m]\u001b[0m\u001b[1;33m=\u001b[0m\u001b[1;36m27\u001b[0m\u001b[1;33m\u001b[0m\u001b[1;33m\u001b[0m\u001b[0m\n\u001b[0m\u001b[0;32m      5\u001b[0m \u001b[0mEmployee_data\u001b[0m\u001b[1;33m[\u001b[0m\u001b[1;36m140\u001b[0m\u001b[1;33m]\u001b[0m\u001b[1;33m=\u001b[0m\u001b[1;36m27\u001b[0m\u001b[1;33m\u001b[0m\u001b[1;33m\u001b[0m\u001b[0m\n\u001b[0;32m      6\u001b[0m \u001b[0mEmployee_data\u001b[0m\u001b[1;33m[\u001b[0m\u001b[1;36m164\u001b[0m\u001b[1;33m]\u001b[0m\u001b[1;33m=\u001b[0m\u001b[1;36m27\u001b[0m\u001b[1;33m\u001b[0m\u001b[1;33m\u001b[0m\u001b[0m\n",
            "\u001b[1;31mNameError\u001b[0m: name 'Employee_data' is not defined"
          ]
        }
      ],
      "source": [
        "#update age of employee 104,140,164 as 27\n",
        "#delete employee 143\n",
        "#calculate mean\n",
        "Employee_data[104]=27\n",
        "Employee_data[140]=27\n",
        "Employee_data[164]=27\n",
        "Employee_data.pop(143)\n",
        "print(sum(Employee_data.values())/ len(Employee_data))\n"
      ]
    },
    {
      "cell_type": "code",
      "execution_count": 5,
      "metadata": {},
      "outputs": [
        {
          "data": {
            "text/plain": [
              "True"
            ]
          },
          "execution_count": 5,
          "metadata": {},
          "output_type": "execute_result"
        }
      ],
      "source": [
        "#set look up\n",
        "set_1={1,2,3,4}\n",
        "1 in set_1"
      ]
    },
    {
      "cell_type": "code",
      "execution_count": 23,
      "metadata": {},
      "outputs": [
        {
          "name": "stdout",
          "output_type": "stream",
          "text": [
            "{2: 1, 4: 3, 5: 4, 3: 2, 1: 1}\n"
          ]
        }
      ],
      "source": [
        "#create a dictionary from below list and count the number of occurence\n",
        "\n",
        "li=[2,4,5,3,2,3,4,1,5]\n",
        "d={}\n",
        "count=0\n",
        "for i in li:\n",
        "    if i in d:\n",
        "        count=count+1\n",
        "        d[i]=count\n",
        "    else:\n",
        "        d[i]=1\n",
        "print(d)"
      ]
    },
    {
      "cell_type": "code",
      "execution_count": 28,
      "metadata": {},
      "outputs": [
        {
          "name": "stdout",
          "output_type": "stream",
          "text": [
            "hr\n",
            "r\n",
            "('rh', ['ab', 'cc'])\n"
          ]
        }
      ],
      "source": [
        "name=\"rh\"\n",
        "print(name[::-1])\n",
        "list=[\"ab\", \"cc\"]\n",
        "print(name[0])\n",
        "player=(name, list)\n",
        "print(player)"
      ]
    },
    {
      "cell_type": "code",
      "execution_count": 38,
      "metadata": {},
      "outputs": [
        {
          "name": "stdout",
          "output_type": "stream",
          "text": [
            "['av']\n"
          ]
        }
      ],
      "source": [
        "colors=[\"av\", \"yu\"]\n",
        "list=[ i for i in colors if i[0] in \"aeiou\"]\n",
        "print(list)\n"
      ]
    },
    {
      "cell_type": "code",
      "execution_count": 48,
      "metadata": {},
      "outputs": [
        {
          "name": "stdout",
          "output_type": "stream",
          "text": [
            "too low\n",
            "too low\n",
            "too low\n",
            "You LOST, correct guess was  8\n"
          ]
        }
      ],
      "source": [
        "# 8 Guess the number\n",
        "# generate a random between 1-10 and store it\n",
        "# then ask the user to enter a number \n",
        "# if the user choice is greater than computer choice say 'too high'\n",
        "# if the user choice is smaller than computer choice say 'too low'\n",
        "# if the user choice is equal to computer choice say 'correct guess'\n",
        "# BONUS points: allow user a max of 3 guesses\n",
        "# will need: use google to learn how to generate a random number between 1-10\n",
        "\n",
        "import random\n",
        "computer_choice = random.randint(1,10)\n",
        "# print(computer_choice)\n",
        "\n",
        "meter = 1\n",
        "while meter<=3:\n",
        "    user_guess= int(input('Guess the number: '))\n",
        "    if user_guess>computer_choice:\n",
        "        print('too high')\n",
        "    elif user_guess<computer_choice:\n",
        "        print('too low')\n",
        "    elif user_guess==computer_choice:\n",
        "        print('correct guess')\n",
        "        break\n",
        "    meter=meter+1\n",
        "if meter==4:\n",
        "    print('You LOST, correct guess was ', computer_choice)"
      ]
    },
    {
      "cell_type": "code",
      "execution_count": null,
      "metadata": {},
      "outputs": [],
      "source": []
    },
    {
      "cell_type": "code",
      "execution_count": null,
      "metadata": {},
      "outputs": [],
      "source": []
    }
  ],
  "metadata": {
    "colab": {
      "authorship_tag": "ABX9TyMhmDpE430Xt1SsjlgTkDF6",
      "collapsed_sections": [],
      "provenance": []
    },
    "kernelspec": {
      "display_name": "Python 3.9.13 ('base')",
      "language": "python",
      "name": "python3"
    },
    "language_info": {
      "codemirror_mode": {
        "name": "ipython",
        "version": 3
      },
      "file_extension": ".py",
      "mimetype": "text/x-python",
      "name": "python",
      "nbconvert_exporter": "python",
      "pygments_lexer": "ipython3",
      "version": "3.9.13"
    },
    "vscode": {
      "interpreter": {
        "hash": "1d65b2f1510214863f64e9f518735244531d5f03f2b40e9db4fc5e9cf9341bef"
      }
    }
  },
  "nbformat": 4,
  "nbformat_minor": 0
}
