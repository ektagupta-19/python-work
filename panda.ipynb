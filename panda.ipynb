{
 "cells": [
  {
   "cell_type": "code",
   "execution_count": 1,
   "metadata": {},
   "outputs": [
    {
     "name": "stdout",
     "output_type": "stream",
     "text": [
      "     0        1            2   3   4   5\n",
      "0    1   Akshay  Mathematics  50  40  80\n",
      "1    2   Mahima      English  40  33  83\n",
      "2    3    Vikas  Mathematics  50  42  84\n",
      "3    4  Abhinav      English  40  31  78\n",
      "4    5   Mahima      Science  50  40  80\n",
      "5    6   Akshay      Science  50  49  98\n",
      "6    7  Abhinav  Mathematics  50  47  94\n",
      "7    8    Vikas      Science  50  40  80\n",
      "8    9  Abhinav      Science  50  47  94\n",
      "9   10    Vikas      English  40  39  98\n",
      "10  11   Akshay      English  40  35  88\n",
      "11  12   Mahima  Mathematics  50  43  86\n"
     ]
    }
   ],
   "source": [
    "#Create a dataframe from the file ‘marks.csv’ and print the contents of the dataframe. Open the file from the link above and inspect the required elements in the file (header, separator, etc.). If the top row is a regular entry, do not load it as the column header.\n",
    "import numpy as np\n",
    "import pandas as pd\n",
    "\n",
    "df = pd.read_csv('https://media-doselect.s3.amazonaws.com/generic/A08MajL8qN4rq72EpVJbAP1Rw/marks_1.csv', sep='|', header=None)\n",
    "print(df)"
   ]
  },
  {
   "cell_type": "code",
   "execution_count": null,
   "metadata": {},
   "outputs": [],
   "source": [
    "import numpy as np\n",
    "import pandas as pd\n",
    "\n",
    "df = pd.read_csv('https://media-doselect.s3.amazonaws.com/generic/A08MajL8qN4rq72EpVJbAP1Rw/marks_1.csv', sep='|', header=None, index_col=0)\n",
    "\n",
    "df.index.name='S.No.'\n",
    "df.columns=['Name', 'Subject', 'Maximum Marks', 'Marks Obtained', 'Percentage']\n",
    "print(df)"
   ]
  },
  {
   "cell_type": "code",
   "execution_count": 2,
   "metadata": {},
   "outputs": [
    {
     "name": "stdout",
     "output_type": "stream",
     "text": [
      "                         ID  Rating\n",
      "Office    Department               \n",
      "Bangalore Finance     U2F53     2.7\n",
      "          Finance     U1F53     3.7\n",
      "          Finance     U1F28     3.2\n",
      "          Finance     U1F15     3.3\n",
      "          Finance     U1F14     2.9\n"
     ]
    }
   ],
   "source": [
    "# Create a hierarchical index based on two columns: Office and Department,Print the first 5 rows as the output\n",
    "import numpy as np\n",
    "import pandas as pd\n",
    " \n",
    "df = pd.read_csv('https://media-doselect.s3.amazonaws.com/generic/NMgEjwkAEGGQZBoNYGr9Ld7w0/rating.csv', index_col=(2,1))\n",
    "#df.set_index(['Office', 'Department'])\n",
    "df.sort_index(inplace=True) \n",
    "print(df.head(5))"
   ]
  },
  {
   "cell_type": "code",
   "execution_count": null,
   "metadata": {},
   "outputs": [],
   "source": [
    "import numpy as np\n",
    "import pandas as pd\n",
    "df = pd.read_csv('https://cdn.upgrad.com/uploads/production/b3467ba4-4e13-44e9-8087-4d7e94cc7586/forestfires.csv')\n",
    "print(df.describe())\n",
    "print(df.columns)\n",
    "print(df.shape)"
   ]
  },
  {
   "cell_type": "code",
   "execution_count": null,
   "metadata": {},
   "outputs": [],
   "source": [
    "#print columns\n",
    "import pandas as pd\n",
    "df = pd.read_csv('https://cdn.upgrad.com/uploads/production/b3467ba4-4e13-44e9-8087-4d7e94cc7586/forestfires.csv')\n",
    "df_2 = df[['month', 'day', 'temp', 'area']]\n",
    "print(df_2.head(20))"
   ]
  },
  {
   "cell_type": "code",
   "execution_count": null,
   "metadata": {},
   "outputs": [],
   "source": [
    "# Print only the even numbers of rows of the dataframe 'df'.\n",
    "import pandas as pd\n",
    "df = pd.read_csv('https://cdn.upgrad.com/uploads/production/b3467ba4-4e13-44e9-8087-4d7e94cc7586/forestfires.csv')\n",
    "df_2 = df.iloc[2:-1:2,:]\n",
    "print(df_2.head(20))"
   ]
  },
  {
   "cell_type": "code",
   "execution_count": 3,
   "metadata": {},
   "outputs": [
    {
     "name": "stdout",
     "output_type": "stream",
     "text": [
      "     X  Y month  day  FFMC    DMC     DC   ISI  temp  RH  wind  rain  area\n",
      "138  9  9   jul  tue  85.8   48.3  313.4   3.9  18.0  42   2.7   0.0  0.36\n",
      "139  1  4   sep  tue  91.0  129.5  692.6   7.0  21.7  38   2.2   0.0  0.43\n",
      "140  2  5   sep  mon  90.9  126.5  686.5   7.0  21.9  39   1.8   0.0  0.47\n",
      "141  1  2   aug  wed  95.5   99.9  513.3  13.2  23.3  31   4.5   0.0  0.55\n",
      "142  8  6   aug  fri  90.1  108.0  529.8  12.5  21.2  51   8.9   0.0  0.61\n",
      "143  1  2   jul  sat  90.0   51.3  296.3   8.7  16.6  53   5.4   0.0  0.71\n",
      "144  2  5   aug  wed  95.5   99.9  513.3  13.2  23.8  32   5.4   0.0  0.77\n",
      "145  6  5   aug  thu  95.2  131.7  578.8  10.4  27.4  22   4.0   0.0  0.90\n",
      "147  8  3   sep  tue  84.4   73.4  671.9   3.2  24.2  28   3.6   0.0  0.96\n",
      "148  2  2   aug  tue  94.8  108.3  647.1  17.0  17.4  43   6.7   0.0  1.07\n",
      "149  8  6   sep  thu  93.7   80.9  685.2  17.9  23.7  25   4.5   0.0  1.12\n",
      "150  6  5   jun  fri  92.5   56.4  433.3   7.1  23.2  39   5.4   0.0  1.19\n",
      "151  9  9   jul  sun  90.1   68.6  355.2   7.2  24.8  29   2.2   0.0  1.36\n",
      "152  3  4   jul  sat  90.1   51.2  424.1   6.2  24.6  43   1.8   0.0  1.43\n",
      "153  5  4   sep  fri  94.3   85.1  692.3  15.9  20.1  47   4.9   0.0  1.46\n",
      "154  1  5   sep  sat  93.4  145.4  721.4   8.1  29.6  27   2.7   0.0  1.46\n",
      "155  7  4   aug  sun  94.8  108.3  647.1  17.0  16.4  47   1.3   0.0  1.56\n",
      "156  2  4   sep  sat  93.4  145.4  721.4   8.1  28.6  27   2.2   0.0  1.61\n",
      "157  2  2   aug  wed  92.1  111.2  654.1   9.6  18.4  45   3.6   0.0  1.63\n",
      "158  2  4   aug  wed  92.1  111.2  654.1   9.6  20.5  35   4.0   0.0  1.64\n"
     ]
    }
   ],
   "source": [
    "#Print all the columns and the rows where 'area' is greater than 0, 'wind' is greater than 1 and the 'temp' is greater than 15.\n",
    "import pandas as pd\n",
    "df = pd.read_csv('https://cdn.upgrad.com/uploads/production/b3467ba4-4e13-44e9-8087-4d7e94cc7586/forestfires.csv')\n",
    "df_2 =  df[(df[\"area\"]>0) & (df[\"wind\"]>1) & (df[\"temp\"]>15)]\n",
    "print(df_2.head(20))"
   ]
  },
  {
   "cell_type": "code",
   "execution_count": 4,
   "metadata": {},
   "outputs": [
    {
     "name": "stdout",
     "output_type": "stream",
     "text": [
      "      ID Department     Office  Rating Training\n",
      "0  U2F26    Finance  New Delhi     3.4      Yes\n",
      "1  U2M61  Marketing  New Delhi     3.9       No\n",
      "2  U1S15      Sales  New Delhi     2.8      Yes\n",
      "3  U1H87         HR     Mumbai     2.1      Yes\n",
      "4  U1S51      Sales  New Delhi     4.6       No\n"
     ]
    }
   ],
   "source": [
    "# You are provided with the dataset of a company which has offices across three cities - Mumbai, Bangalore and New Delhi. The dataset contains the rating (out of 5) of all the employees from different departments (Finance, HR, Marketing and Sales). \n",
    "#The company has come up with a new policy that any individual with a rating equal to or below 3.5 needs to attend a training. Using dataframes, load the dataset and then derive the column ‘Training’ which shows ‘Yes’ for people who require training and ‘No’ for those who do not.\n",
    "#Print the first 5 rows as the output\n",
    "import numpy as np\n",
    "import pandas as pd\n",
    " \n",
    "df = pd.read_csv('https://media-doselect.s3.amazonaws.com/generic/NMgEjwkAEGGQZBoNYGr9Ld7w0/rating.csv')\n",
    "df[\"Training\"]= df.Rating.apply(lambda x: \"Yes\" if x<=3.5 else \"No\") \n",
    "print(df.head(5))"
   ]
  },
  {
   "cell_type": "code",
   "execution_count": 9,
   "metadata": {},
   "outputs": [
    {
     "name": "stdout",
     "output_type": "stream",
     "text": [
      "Finance 50.0\n",
      "HR 57.25190839694656\n",
      "Sales 49.23076923076923\n",
      "Marketing 46.3768115942029\n"
     ]
    }
   ],
   "source": [
    "import numpy as np\n",
    "import pandas as pd\n",
    " \n",
    "df = pd.read_csv('https://media-doselect.s3.amazonaws.com/generic/NMgEjwkAEGGQZBoNYGr9Ld7w0/rating.csv')\n",
    "df[\"Training\"]= df.Rating.apply(lambda x: \"Yes\" if x<=3.5 else \"No\") \n",
    "#print(df[df[\"Training\"]==\"Yes\"])\n",
    "\n",
    "for i in ['Finance', 'HR', 'Sales', 'Marketing']:\n",
    "    print(i, len(df[(df['Training'] == 'No') & (df['Department'] == i)]) / len(df[df['Department'] == i]) * 100)\n",
    "\n"
   ]
  },
  {
   "cell_type": "code",
   "execution_count": null,
   "metadata": {},
   "outputs": [],
   "source": [
    "#Group the dataframe 'df' by 'month' and 'day' and find the mean value for column 'rain' and 'wind'.\n",
    "import pandas as pd\n",
    "df = pd.read_csv('https://cdn.upgrad.com/uploads/production/b3467ba4-4e13-44e9-8087-4d7e94cc7586/forestfires.csv')\n",
    "\n",
    "df_1 = df.groupby(by=[\"month\", \"day\"])['rain', 'wind'].mean()\n",
    "print(df_1.head(20))"
   ]
  },
  {
   "cell_type": "code",
   "execution_count": null,
   "metadata": {},
   "outputs": [],
   "source": [
    "#Perform an inner merge on two data frames df_1 and df_2 on  'unique_id' and print the combined dataframe.\n",
    "import pandas as pd\n",
    "df_1 = pd.read_csv('https://cdn.upgrad.com/uploads/production/1ed2840b-f083-44fe-9eb4-acda009ac620/restaurant-1.csv')\n",
    "df_2 = pd.read_csv('https://cdn.upgrad.com/uploads/production/c87b99b4-467c-4128-8729-85bff0b0acbe/restaurant-2.csv')\n",
    "df_3 = df_1.merge(df_2,on=\"unique_id\", how=\"inner\")\n",
    "print(df_3.head(20))"
   ]
  },
  {
   "cell_type": "code",
   "execution_count": null,
   "metadata": {},
   "outputs": [],
   "source": [
    "#Append two datasets df_1 and df_2, and print the combined dataframe.\n",
    "import warnings\n",
    "warnings.simplefilter(\"ignore\")\n",
    "\n",
    "import pandas as pd\n",
    "df_1 = pd.read_csv('https://cdn.upgrad.com/uploads/production/1ed2840b-f083-44fe-9eb4-acda009ac620/restaurant-1.csv')\n",
    "df_2 = pd.read_csv('https://cdn.upgrad.com/uploads/production/c87b99b4-467c-4128-8729-85bff0b0acbe/restaurant-2.csv')\n",
    "df_3 =pd.concat([df_1,df_2], axis=0)\n",
    "\n",
    "print(df_3.head())"
   ]
  }
 ],
 "metadata": {
  "kernelspec": {
   "display_name": "Python 3.9.13 ('base')",
   "language": "python",
   "name": "python3"
  },
  "language_info": {
   "codemirror_mode": {
    "name": "ipython",
    "version": 3
   },
   "file_extension": ".py",
   "mimetype": "text/x-python",
   "name": "python",
   "nbconvert_exporter": "python",
   "pygments_lexer": "ipython3",
   "version": "3.9.13"
  },
  "orig_nbformat": 4,
  "vscode": {
   "interpreter": {
    "hash": "1d65b2f1510214863f64e9f518735244531d5f03f2b40e9db4fc5e9cf9341bef"
   }
  }
 },
 "nbformat": 4,
 "nbformat_minor": 2
}
