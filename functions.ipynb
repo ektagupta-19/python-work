{
 "cells": [
  {
   "cell_type": "code",
   "execution_count": 1,
   "metadata": {},
   "outputs": [
    {
     "name": "stdout",
     "output_type": "stream",
     "text": [
      "8\n"
     ]
    }
   ],
   "source": [
    "#Create a function squared(), which takes x and y as arguments and returns the x**y value. For e.g., if x = 2 and y = 3 , then the output is 8.\n",
    "import ast,sys \n",
    "input_list = [2,3]\n",
    "x = int(input_list[0])\n",
    "y = int(input_list[1])\n",
    " \n",
    "def squared(x,y):\n",
    "    return x**y\n",
    "print(squared(x,y))"
   ]
  },
  {
   "cell_type": "code",
   "execution_count": 4,
   "metadata": {},
   "outputs": [
    {
     "name": "stdout",
     "output_type": "stream",
     "text": [
      "5040\n"
     ]
    }
   ],
   "source": [
    "#factorial of a number\n",
    "def fact(x):\n",
    "    fact1=1\n",
    "    for i in range(1,x+1):\n",
    "        fact1=fact1* (i)\n",
    "    return fact1\n",
    "number= int(input(\"Enter a number : \"))\n",
    "print(fact(number))"
   ]
  },
  {
   "cell_type": "code",
   "execution_count": 7,
   "metadata": {},
   "outputs": [
    {
     "name": "stdout",
     "output_type": "stream",
     "text": [
      "name :  Bob  , age :  25  , city:  kota\n",
      "name :  bob  , age :  35  , city:  Bikaner\n",
      "name :  bob  , age :  Jodhpur  , city:  Jaipur\n"
     ]
    }
   ],
   "source": [
    "#keyword Arguments\n",
    "def func(name, age=35, city=\"Jaipur\"):\n",
    "    print(\"name : \", name, \" , age : \", age, \" , city: \", city)\n",
    "\n",
    "func(\"Bob\",25,\"kota\")\n",
    "func(\"bob\", city=\"Bikaner\")\n",
    "func(\"bob\",\"Jodhpur\")"
   ]
  },
  {
   "cell_type": "code",
   "execution_count": 9,
   "metadata": {},
   "outputs": [
    {
     "name": "stdout",
     "output_type": "stream",
     "text": [
      "(1, 2, 'abc')\n"
     ]
    }
   ],
   "source": [
    "#variable length arguments\n",
    "def func(*args):\n",
    "    print(args)\n",
    "func(1,2,\"abc\")"
   ]
  },
  {
   "cell_type": "code",
   "execution_count": 10,
   "metadata": {},
   "outputs": [
    {
     "name": "stdout",
     "output_type": "stream",
     "text": [
      "[2, 6, 15, 4, 8]\n"
     ]
    }
   ],
   "source": [
    "#element wise subtraction\n",
    "def list_diff(list1,list2):\n",
    "    list3 = []\n",
    "    for  i in range(0, len(list1)):\n",
    "        list3.append(list1[i] - list2[i])\n",
    "    return list3\n",
    "\n",
    "L1 = [10, 20, 30, 24, 18]\n",
    "L2 = [8, 14, 15, 20, 10]\n",
    "\n",
    "print(list_diff(L1, L2))"
   ]
  },
  {
   "cell_type": "code",
   "execution_count": 14,
   "metadata": {},
   "outputs": [
    {
     "data": {
      "text/plain": [
       "'even'"
      ]
     },
     "execution_count": 14,
     "metadata": {},
     "output_type": "execute_result"
    }
   ],
   "source": [
    "#lamba function\n",
    "funct= lambda x: \"even\" if x%2==0 else \"odd\"\n",
    "\n",
    "funct(4)"
   ]
  },
  {
   "cell_type": "code",
   "execution_count": null,
   "metadata": {},
   "outputs": [],
   "source": [
    "#Create a lambda function 'greater', which takes two arguments x and y and return x if x>y otherwise y.\n",
    "#If x = 2 and y= 3, then the output should be 3.\n",
    "\n",
    "import ast,sys\n",
    "input_str = sys.stdin.read()\n",
    "input_list = ast.literal_eval(input_str)\n",
    "a = int(input_list[0])\n",
    "b = int(input_list[1])\n",
    "\n",
    "greater = lambda a,b : a if a>b else b\n",
    "#Write your code here\n",
    "\n",
    "print(greater(a,b))\n"
   ]
  }
 ],
 "metadata": {
  "kernelspec": {
   "display_name": "Python 3.9.13 ('base')",
   "language": "python",
   "name": "python3"
  },
  "language_info": {
   "codemirror_mode": {
    "name": "ipython",
    "version": 3
   },
   "file_extension": ".py",
   "mimetype": "text/x-python",
   "name": "python",
   "nbconvert_exporter": "python",
   "pygments_lexer": "ipython3",
   "version": "3.9.13"
  },
  "orig_nbformat": 4,
  "vscode": {
   "interpreter": {
    "hash": "1d65b2f1510214863f64e9f518735244531d5f03f2b40e9db4fc5e9cf9341bef"
   }
  }
 },
 "nbformat": 4,
 "nbformat_minor": 2
}
